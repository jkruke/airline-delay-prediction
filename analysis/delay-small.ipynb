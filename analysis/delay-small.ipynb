{
 "cells": [
  {
   "cell_type": "code",
   "execution_count": 4,
   "metadata": {},
   "outputs": [],
   "source": [
    "import pandas as pd\n",
    "import numpy as np\n",
    "import matplotlib.pyplot as plt"
   ]
  },
  {
   "cell_type": "markdown",
   "metadata": {},
   "source": [
    "**NOTES:**\n",
    "* Remove departure time because if you have that then you are on the plane already -> no reason to predict the delay time anymore\n",
    "* Depature and arrival months can be different if the flight is at the end of the month\n",
    "* Need more relevant continous-valued columns\n",
    "* Temporarily remove the `flight_number` column for now, will think of better way to handle that col\n",
    "* Certain values of attributes that are in val or test set are not in train set -> train transformation cannot apply"
   ]
  },
  {
   "cell_type": "markdown",
   "metadata": {},
   "source": [
    "# Loading and cleaning data"
   ]
  },
  {
   "cell_type": "code",
   "execution_count": 5,
   "metadata": {},
   "outputs": [
    {
     "data": {
      "text/html": [
       "<div>\n",
       "<style scoped>\n",
       "    .dataframe tbody tr th:only-of-type {\n",
       "        vertical-align: middle;\n",
       "    }\n",
       "\n",
       "    .dataframe tbody tr th {\n",
       "        vertical-align: top;\n",
       "    }\n",
       "\n",
       "    .dataframe thead th {\n",
       "        text-align: right;\n",
       "    }\n",
       "</style>\n",
       "<table border=\"1\" class=\"dataframe\">\n",
       "  <thead>\n",
       "    <tr style=\"text-align: right;\">\n",
       "      <th></th>\n",
       "      <th>airline_iata</th>\n",
       "      <th>dep_estimated_utc</th>\n",
       "      <th>arr_estimated_utc</th>\n",
       "      <th>dep_country_code</th>\n",
       "      <th>arr_country_code</th>\n",
       "      <th>domestic</th>\n",
       "      <th>international</th>\n",
       "      <th>delayed</th>\n",
       "    </tr>\n",
       "  </thead>\n",
       "  <tbody>\n",
       "    <tr>\n",
       "      <th>0</th>\n",
       "      <td>SQ</td>\n",
       "      <td>2023-10-05 01:22</td>\n",
       "      <td>2023-10-05 07:37</td>\n",
       "      <td>CN</td>\n",
       "      <td>SG</td>\n",
       "      <td>False</td>\n",
       "      <td>True</td>\n",
       "      <td>42</td>\n",
       "    </tr>\n",
       "    <tr>\n",
       "      <th>1</th>\n",
       "      <td>TR</td>\n",
       "      <td>2023-10-05 01:22</td>\n",
       "      <td>2023-10-05 07:37</td>\n",
       "      <td>CN</td>\n",
       "      <td>SG</td>\n",
       "      <td>False</td>\n",
       "      <td>True</td>\n",
       "      <td>42</td>\n",
       "    </tr>\n",
       "    <tr>\n",
       "      <th>2</th>\n",
       "      <td>7C</td>\n",
       "      <td>2023-10-05 02:24</td>\n",
       "      <td>2023-10-05 03:45</td>\n",
       "      <td>CN</td>\n",
       "      <td>KR</td>\n",
       "      <td>False</td>\n",
       "      <td>True</td>\n",
       "      <td>34</td>\n",
       "    </tr>\n",
       "    <tr>\n",
       "      <th>3</th>\n",
       "      <td>SC</td>\n",
       "      <td>2023-10-05 03:09</td>\n",
       "      <td>2023-10-05 04:09</td>\n",
       "      <td>CN</td>\n",
       "      <td>KR</td>\n",
       "      <td>False</td>\n",
       "      <td>True</td>\n",
       "      <td>34</td>\n",
       "    </tr>\n",
       "    <tr>\n",
       "      <th>4</th>\n",
       "      <td>CA</td>\n",
       "      <td>2023-10-05 03:09</td>\n",
       "      <td>2023-10-05 04:09</td>\n",
       "      <td>CN</td>\n",
       "      <td>KR</td>\n",
       "      <td>False</td>\n",
       "      <td>True</td>\n",
       "      <td>34</td>\n",
       "    </tr>\n",
       "  </tbody>\n",
       "</table>\n",
       "</div>"
      ],
      "text/plain": [
       "  airline_iata dep_estimated_utc arr_estimated_utc dep_country_code  \\\n",
       "0           SQ  2023-10-05 01:22  2023-10-05 07:37               CN   \n",
       "1           TR  2023-10-05 01:22  2023-10-05 07:37               CN   \n",
       "2           7C  2023-10-05 02:24  2023-10-05 03:45               CN   \n",
       "3           SC  2023-10-05 03:09  2023-10-05 04:09               CN   \n",
       "4           CA  2023-10-05 03:09  2023-10-05 04:09               CN   \n",
       "\n",
       "  arr_country_code  domestic  international  delayed  \n",
       "0               SG     False           True       42  \n",
       "1               SG     False           True       42  \n",
       "2               KR     False           True       34  \n",
       "3               KR     False           True       34  \n",
       "4               KR     False           True       34  "
      ]
     },
     "execution_count": 5,
     "metadata": {},
     "output_type": "execute_result"
    }
   ],
   "source": [
    "filename = '/Users/longhoang/Desktop/airline-delay-prediction/data/airline-delay-small.csv' # replace with your 'csv' file path 😊\n",
    "\n",
    "data = pd.read_csv(filename) # `df` stands for dataframe\n",
    "\n",
    "cols_remove = ['Unnamed: 0', 'arr_time_utc', 'dep_time_utc', 'flight_number']\n",
    "for col in cols_remove:\n",
    "    data.drop(col, axis=1, inplace=True) # remove the column with no header\n",
    "    \n",
    "data.head()"
   ]
  },
  {
   "cell_type": "markdown",
   "metadata": {},
   "source": [
    "Split `dep_estimated_utc` and `arr_estimated_utc` into year, month, day, hour, minute"
   ]
  },
  {
   "cell_type": "code",
   "execution_count": 6,
   "metadata": {},
   "outputs": [],
   "source": [
    "data[['date', 'time']] = data['dep_estimated_utc'].str.split(' ', expand=True)\n",
    "data[['year', 'month', 'dep_est_day']] = data['date'].str.split('-', expand=True)\n",
    "data[['dep_est_hour', 'dep_est_minute']] = data['time'].str.split(':', expand=True)\n",
    "\n",
    "# convert to numeric\n",
    "data[['year', 'month', 'dep_est_day', 'dep_est_hour', 'dep_est_minute']] = \\\n",
    "    data[['year', 'month', 'dep_est_day', 'dep_est_hour', 'dep_est_minute']].apply(pd.to_numeric)\n",
    "\n",
    "data.drop(['date', 'time'], axis=1, inplace=True)"
   ]
  },
  {
   "cell_type": "code",
   "execution_count": 7,
   "metadata": {},
   "outputs": [],
   "source": [
    "data[['date', 'time']] = data['arr_estimated_utc'].str.split(' ', expand=True)\n",
    "data[['year', 'month', 'arr_est_day']] = data['date'].str.split('-', expand=True)\n",
    "data[['arr_est_hour', 'arr_est_minute']] = data['time'].str.split(':', expand=True)\n",
    "\n",
    "# convert to numeric\n",
    "data[['year', 'month', 'arr_est_day', 'arr_est_hour', 'arr_est_minute']] = \\\n",
    "    data[['year', 'month', 'arr_est_day', 'arr_est_hour', 'arr_est_minute']].apply(pd.to_numeric)\n",
    "\n",
    "data.drop(['date', 'time'], axis=1, inplace=True)"
   ]
  },
  {
   "cell_type": "code",
   "execution_count": 8,
   "metadata": {},
   "outputs": [
    {
     "data": {
      "text/html": [
       "<div>\n",
       "<style scoped>\n",
       "    .dataframe tbody tr th:only-of-type {\n",
       "        vertical-align: middle;\n",
       "    }\n",
       "\n",
       "    .dataframe tbody tr th {\n",
       "        vertical-align: top;\n",
       "    }\n",
       "\n",
       "    .dataframe thead th {\n",
       "        text-align: right;\n",
       "    }\n",
       "</style>\n",
       "<table border=\"1\" class=\"dataframe\">\n",
       "  <thead>\n",
       "    <tr style=\"text-align: right;\">\n",
       "      <th></th>\n",
       "      <th>airline_iata</th>\n",
       "      <th>dep_estimated_utc</th>\n",
       "      <th>arr_estimated_utc</th>\n",
       "      <th>dep_country_code</th>\n",
       "      <th>arr_country_code</th>\n",
       "      <th>domestic</th>\n",
       "      <th>international</th>\n",
       "      <th>delayed</th>\n",
       "      <th>year</th>\n",
       "      <th>month</th>\n",
       "      <th>dep_est_day</th>\n",
       "      <th>dep_est_hour</th>\n",
       "      <th>dep_est_minute</th>\n",
       "      <th>arr_est_day</th>\n",
       "      <th>arr_est_hour</th>\n",
       "      <th>arr_est_minute</th>\n",
       "    </tr>\n",
       "  </thead>\n",
       "  <tbody>\n",
       "    <tr>\n",
       "      <th>0</th>\n",
       "      <td>SQ</td>\n",
       "      <td>2023-10-05 01:22</td>\n",
       "      <td>2023-10-05 07:37</td>\n",
       "      <td>CN</td>\n",
       "      <td>SG</td>\n",
       "      <td>False</td>\n",
       "      <td>True</td>\n",
       "      <td>42</td>\n",
       "      <td>2023.0</td>\n",
       "      <td>10.0</td>\n",
       "      <td>5.0</td>\n",
       "      <td>1.0</td>\n",
       "      <td>22.0</td>\n",
       "      <td>5.0</td>\n",
       "      <td>7.0</td>\n",
       "      <td>37.0</td>\n",
       "    </tr>\n",
       "    <tr>\n",
       "      <th>1</th>\n",
       "      <td>TR</td>\n",
       "      <td>2023-10-05 01:22</td>\n",
       "      <td>2023-10-05 07:37</td>\n",
       "      <td>CN</td>\n",
       "      <td>SG</td>\n",
       "      <td>False</td>\n",
       "      <td>True</td>\n",
       "      <td>42</td>\n",
       "      <td>2023.0</td>\n",
       "      <td>10.0</td>\n",
       "      <td>5.0</td>\n",
       "      <td>1.0</td>\n",
       "      <td>22.0</td>\n",
       "      <td>5.0</td>\n",
       "      <td>7.0</td>\n",
       "      <td>37.0</td>\n",
       "    </tr>\n",
       "    <tr>\n",
       "      <th>2</th>\n",
       "      <td>7C</td>\n",
       "      <td>2023-10-05 02:24</td>\n",
       "      <td>2023-10-05 03:45</td>\n",
       "      <td>CN</td>\n",
       "      <td>KR</td>\n",
       "      <td>False</td>\n",
       "      <td>True</td>\n",
       "      <td>34</td>\n",
       "      <td>2023.0</td>\n",
       "      <td>10.0</td>\n",
       "      <td>5.0</td>\n",
       "      <td>2.0</td>\n",
       "      <td>24.0</td>\n",
       "      <td>5.0</td>\n",
       "      <td>3.0</td>\n",
       "      <td>45.0</td>\n",
       "    </tr>\n",
       "    <tr>\n",
       "      <th>3</th>\n",
       "      <td>SC</td>\n",
       "      <td>2023-10-05 03:09</td>\n",
       "      <td>2023-10-05 04:09</td>\n",
       "      <td>CN</td>\n",
       "      <td>KR</td>\n",
       "      <td>False</td>\n",
       "      <td>True</td>\n",
       "      <td>34</td>\n",
       "      <td>2023.0</td>\n",
       "      <td>10.0</td>\n",
       "      <td>5.0</td>\n",
       "      <td>3.0</td>\n",
       "      <td>9.0</td>\n",
       "      <td>5.0</td>\n",
       "      <td>4.0</td>\n",
       "      <td>9.0</td>\n",
       "    </tr>\n",
       "    <tr>\n",
       "      <th>4</th>\n",
       "      <td>CA</td>\n",
       "      <td>2023-10-05 03:09</td>\n",
       "      <td>2023-10-05 04:09</td>\n",
       "      <td>CN</td>\n",
       "      <td>KR</td>\n",
       "      <td>False</td>\n",
       "      <td>True</td>\n",
       "      <td>34</td>\n",
       "      <td>2023.0</td>\n",
       "      <td>10.0</td>\n",
       "      <td>5.0</td>\n",
       "      <td>3.0</td>\n",
       "      <td>9.0</td>\n",
       "      <td>5.0</td>\n",
       "      <td>4.0</td>\n",
       "      <td>9.0</td>\n",
       "    </tr>\n",
       "    <tr>\n",
       "      <th>5</th>\n",
       "      <td>OZ</td>\n",
       "      <td>2023-10-05 03:09</td>\n",
       "      <td>2023-10-05 04:09</td>\n",
       "      <td>CN</td>\n",
       "      <td>KR</td>\n",
       "      <td>False</td>\n",
       "      <td>True</td>\n",
       "      <td>34</td>\n",
       "      <td>2023.0</td>\n",
       "      <td>10.0</td>\n",
       "      <td>5.0</td>\n",
       "      <td>3.0</td>\n",
       "      <td>9.0</td>\n",
       "      <td>5.0</td>\n",
       "      <td>4.0</td>\n",
       "      <td>9.0</td>\n",
       "    </tr>\n",
       "    <tr>\n",
       "      <th>6</th>\n",
       "      <td>CA</td>\n",
       "      <td>2023-10-05 03:38</td>\n",
       "      <td>NaN</td>\n",
       "      <td>CN</td>\n",
       "      <td>KR</td>\n",
       "      <td>False</td>\n",
       "      <td>True</td>\n",
       "      <td>63</td>\n",
       "      <td>NaN</td>\n",
       "      <td>NaN</td>\n",
       "      <td>5.0</td>\n",
       "      <td>3.0</td>\n",
       "      <td>38.0</td>\n",
       "      <td>NaN</td>\n",
       "      <td>NaN</td>\n",
       "      <td>NaN</td>\n",
       "    </tr>\n",
       "    <tr>\n",
       "      <th>7</th>\n",
       "      <td>OZ</td>\n",
       "      <td>2023-10-05 03:38</td>\n",
       "      <td>NaN</td>\n",
       "      <td>CN</td>\n",
       "      <td>KR</td>\n",
       "      <td>False</td>\n",
       "      <td>True</td>\n",
       "      <td>63</td>\n",
       "      <td>NaN</td>\n",
       "      <td>NaN</td>\n",
       "      <td>5.0</td>\n",
       "      <td>3.0</td>\n",
       "      <td>38.0</td>\n",
       "      <td>NaN</td>\n",
       "      <td>NaN</td>\n",
       "      <td>NaN</td>\n",
       "    </tr>\n",
       "    <tr>\n",
       "      <th>8</th>\n",
       "      <td>SC</td>\n",
       "      <td>2023-10-05 03:38</td>\n",
       "      <td>NaN</td>\n",
       "      <td>CN</td>\n",
       "      <td>KR</td>\n",
       "      <td>False</td>\n",
       "      <td>True</td>\n",
       "      <td>63</td>\n",
       "      <td>NaN</td>\n",
       "      <td>NaN</td>\n",
       "      <td>5.0</td>\n",
       "      <td>3.0</td>\n",
       "      <td>38.0</td>\n",
       "      <td>NaN</td>\n",
       "      <td>NaN</td>\n",
       "      <td>NaN</td>\n",
       "    </tr>\n",
       "    <tr>\n",
       "      <th>9</th>\n",
       "      <td>SC</td>\n",
       "      <td>2023-10-05 03:40</td>\n",
       "      <td>2023-10-05 04:57</td>\n",
       "      <td>CN</td>\n",
       "      <td>CN</td>\n",
       "      <td>True</td>\n",
       "      <td>False</td>\n",
       "      <td>47</td>\n",
       "      <td>2023.0</td>\n",
       "      <td>10.0</td>\n",
       "      <td>5.0</td>\n",
       "      <td>3.0</td>\n",
       "      <td>40.0</td>\n",
       "      <td>5.0</td>\n",
       "      <td>4.0</td>\n",
       "      <td>57.0</td>\n",
       "    </tr>\n",
       "  </tbody>\n",
       "</table>\n",
       "</div>"
      ],
      "text/plain": [
       "  airline_iata dep_estimated_utc arr_estimated_utc dep_country_code  \\\n",
       "0           SQ  2023-10-05 01:22  2023-10-05 07:37               CN   \n",
       "1           TR  2023-10-05 01:22  2023-10-05 07:37               CN   \n",
       "2           7C  2023-10-05 02:24  2023-10-05 03:45               CN   \n",
       "3           SC  2023-10-05 03:09  2023-10-05 04:09               CN   \n",
       "4           CA  2023-10-05 03:09  2023-10-05 04:09               CN   \n",
       "5           OZ  2023-10-05 03:09  2023-10-05 04:09               CN   \n",
       "6           CA  2023-10-05 03:38               NaN               CN   \n",
       "7           OZ  2023-10-05 03:38               NaN               CN   \n",
       "8           SC  2023-10-05 03:38               NaN               CN   \n",
       "9           SC  2023-10-05 03:40  2023-10-05 04:57               CN   \n",
       "\n",
       "  arr_country_code  domestic  international  delayed    year  month  \\\n",
       "0               SG     False           True       42  2023.0   10.0   \n",
       "1               SG     False           True       42  2023.0   10.0   \n",
       "2               KR     False           True       34  2023.0   10.0   \n",
       "3               KR     False           True       34  2023.0   10.0   \n",
       "4               KR     False           True       34  2023.0   10.0   \n",
       "5               KR     False           True       34  2023.0   10.0   \n",
       "6               KR     False           True       63     NaN    NaN   \n",
       "7               KR     False           True       63     NaN    NaN   \n",
       "8               KR     False           True       63     NaN    NaN   \n",
       "9               CN      True          False       47  2023.0   10.0   \n",
       "\n",
       "   dep_est_day  dep_est_hour  dep_est_minute  arr_est_day  arr_est_hour  \\\n",
       "0          5.0           1.0            22.0          5.0           7.0   \n",
       "1          5.0           1.0            22.0          5.0           7.0   \n",
       "2          5.0           2.0            24.0          5.0           3.0   \n",
       "3          5.0           3.0             9.0          5.0           4.0   \n",
       "4          5.0           3.0             9.0          5.0           4.0   \n",
       "5          5.0           3.0             9.0          5.0           4.0   \n",
       "6          5.0           3.0            38.0          NaN           NaN   \n",
       "7          5.0           3.0            38.0          NaN           NaN   \n",
       "8          5.0           3.0            38.0          NaN           NaN   \n",
       "9          5.0           3.0            40.0          5.0           4.0   \n",
       "\n",
       "   arr_est_minute  \n",
       "0            37.0  \n",
       "1            37.0  \n",
       "2            45.0  \n",
       "3             9.0  \n",
       "4             9.0  \n",
       "5             9.0  \n",
       "6             NaN  \n",
       "7             NaN  \n",
       "8             NaN  \n",
       "9            57.0  "
      ]
     },
     "execution_count": 8,
     "metadata": {},
     "output_type": "execute_result"
    }
   ],
   "source": [
    "data.head(10)"
   ]
  },
  {
   "cell_type": "code",
   "execution_count": 9,
   "metadata": {},
   "outputs": [
    {
     "data": {
      "text/plain": [
       "0.8931000971817298"
      ]
     },
     "execution_count": 9,
     "metadata": {},
     "output_type": "execute_result"
    }
   ],
   "source": [
    "(data.arr_est_day == data.dep_est_day).mean()\n",
    "# departure and arrival days don't necessarily the same day"
   ]
  },
  {
   "cell_type": "code",
   "execution_count": 10,
   "metadata": {},
   "outputs": [
    {
     "name": "stdout",
     "output_type": "stream",
     "text": [
      "<class 'pandas.core.frame.DataFrame'>\n",
      "RangeIndex: 3087 entries, 0 to 3086\n",
      "Data columns (total 14 columns):\n",
      " #   Column            Non-Null Count  Dtype  \n",
      "---  ------            --------------  -----  \n",
      " 0   airline_iata      3071 non-null   object \n",
      " 1   dep_country_code  3087 non-null   object \n",
      " 2   arr_country_code  3087 non-null   object \n",
      " 3   domestic          3087 non-null   bool   \n",
      " 4   international     3087 non-null   bool   \n",
      " 5   delayed           3087 non-null   int64  \n",
      " 6   year              2828 non-null   float64\n",
      " 7   month             2828 non-null   float64\n",
      " 8   dep_est_day       3029 non-null   float64\n",
      " 9   dep_est_hour      3029 non-null   float64\n",
      " 10  dep_est_minute    3029 non-null   float64\n",
      " 11  arr_est_day       2828 non-null   float64\n",
      " 12  arr_est_hour      2828 non-null   float64\n",
      " 13  arr_est_minute    2828 non-null   float64\n",
      "dtypes: bool(2), float64(8), int64(1), object(3)\n",
      "memory usage: 295.6+ KB\n"
     ]
    }
   ],
   "source": [
    "data.drop(['dep_estimated_utc', 'arr_estimated_utc'], axis=1, inplace=True)\n",
    "data.info()"
   ]
  },
  {
   "cell_type": "code",
   "execution_count": 11,
   "metadata": {},
   "outputs": [
    {
     "data": {
      "text/plain": [
       "count    3087.000000\n",
       "mean      105.571429\n",
       "std       131.775467\n",
       "min        31.000000\n",
       "25%        45.000000\n",
       "50%        65.000000\n",
       "75%       114.000000\n",
       "max      1385.000000\n",
       "Name: delayed, dtype: float64"
      ]
     },
     "execution_count": 11,
     "metadata": {},
     "output_type": "execute_result"
    }
   ],
   "source": [
    "# Let's see the statistics of delay time\n",
    "data.delayed.describe()"
   ]
  },
  {
   "cell_type": "markdown",
   "metadata": {},
   "source": [
    "The `mean` delay time is 105 (in minutes?) and `std` is 131 mins. The maximum delay time is 1385 mins which is quite high"
   ]
  },
  {
   "cell_type": "code",
   "execution_count": 12,
   "metadata": {},
   "outputs": [
    {
     "name": "stdout",
     "output_type": "stream",
     "text": [
      "Bin Edges: [31.   58.08]\n",
      "Counts: 1337\n"
     ]
    },
    {
     "data": {
      "image/png": "[encoded data removed]",
      "text/plain": [
       "<Figure size 640x480 with 1 Axes>"
      ]
     },
     "metadata": {},
     "output_type": "display_data"
    }
   ],
   "source": [
    "# Use the hist function to calculate the histogram and get the bin edges and counts\n",
    "data.delayed.hist(bins=50)\n",
    "counts, bin_edges = np.histogram(data['delayed'], bins=50)\n",
    "\n",
    "# Print the bin edges and counts\n",
    "print(\"Bin Edges:\", bin_edges[0:2])\n",
    "print(\"Counts:\", counts[0])"
   ]
  },
  {
   "cell_type": "markdown",
   "metadata": {},
   "source": [
    "So nearly half of the examples fall into the first bin. This phenomenom is call 'long tail', more specifically 'right long tail' which happens quite a lot. We will use one technique called Stratified Sampling to make sure train, valdiation, and test set have similar target distribution (delay time). \n",
    "\n",
    "You can see that the distribution seems to split into three part. \n",
    "- The first bin where nearly half of the data lie\n",
    "- The second bin to the bin around 200 -- most of the remaining half\n",
    "- The rest (from 200 to inf)"
   ]
  },
  {
   "cell_type": "markdown",
   "metadata": {},
   "source": [
    "Let's do stratified sampling by splitting the data into 3 sets with similary distribution\n",
    "based on 'delayed' attribute"
   ]
  },
  {
   "cell_type": "code",
   "execution_count": 13,
   "metadata": {},
   "outputs": [
    {
     "data": {
      "text/plain": [
       "<Axes: >"
      ]
     },
     "execution_count": 13,
     "metadata": {},
     "output_type": "execute_result"
    },
    {
     "data": {
      "image/png": "[encoded data removed]",
      "text/plain": [
       "<Figure size 640x480 with 1 Axes>"
      ]
     },
     "metadata": {},
     "output_type": "display_data"
    }
   ],
   "source": [
    "data['delay_bin'] = pd.cut(data.delayed, [0., 58, 200, np.inf], labels=[1,2,3])\n",
    "data.delay_bin.hist()"
   ]
  },
  {
   "cell_type": "code",
   "execution_count": 14,
   "metadata": {},
   "outputs": [
    {
     "name": "stderr",
     "output_type": "stream",
     "text": [
      "/Users/longhoang/opt/anaconda3/envs/longhoang/lib/python3.11/site-packages/sklearn/utils/validation.py:605: FutureWarning: is_sparse is deprecated and will be removed in a future version. Check `isinstance(dtype, pd.SparseDtype)` instead.\n",
      "  if is_sparse(pd_dtype):\n",
      "/Users/longhoang/opt/anaconda3/envs/longhoang/lib/python3.11/site-packages/sklearn/utils/validation.py:614: FutureWarning: is_sparse is deprecated and will be removed in a future version. Check `isinstance(dtype, pd.SparseDtype)` instead.\n",
      "  if is_sparse(pd_dtype) or not is_extension_array_dtype(pd_dtype):\n",
      "/Users/longhoang/opt/anaconda3/envs/longhoang/lib/python3.11/site-packages/sklearn/utils/validation.py:605: FutureWarning: is_sparse is deprecated and will be removed in a future version. Check `isinstance(dtype, pd.SparseDtype)` instead.\n",
      "  if is_sparse(pd_dtype):\n",
      "/Users/longhoang/opt/anaconda3/envs/longhoang/lib/python3.11/site-packages/sklearn/utils/validation.py:614: FutureWarning: is_sparse is deprecated and will be removed in a future version. Check `isinstance(dtype, pd.SparseDtype)` instead.\n",
      "  if is_sparse(pd_dtype) or not is_extension_array_dtype(pd_dtype):\n"
     ]
    }
   ],
   "source": [
    "from sklearn.model_selection import StratifiedShuffleSplit\n",
    "\n",
    "ss = StratifiedShuffleSplit(n_splits=1, test_size=0.2, random_state=42)\n",
    "\n",
    "for train_ix, test_ix in ss.split(data, data.delay_bin):\n",
    "    train_val_set = data.iloc[train_ix]\n",
    "    test_set = data.iloc[test_ix]\n",
    "\n",
    "for train_ix, val_ix in ss.split(train_val_set, train_val_set.delay_bin):\n",
    "    train_set = data.iloc[train_ix]\n",
    "    val_set = data.iloc[val_ix]"
   ]
  },
  {
   "cell_type": "code",
   "execution_count": 15,
   "metadata": {},
   "outputs": [
    {
     "name": "stdout",
     "output_type": "stream",
     "text": [
      "\n",
      "Orig: 3087 samples\n",
      "delay_bin\n",
      "2    0.474895\n",
      "1    0.433107\n",
      "3    0.091999\n",
      "Name: count, dtype: float64\n",
      "\n",
      "Train: 1975 samples\n",
      "delay_bin\n",
      "2    0.489620\n",
      "1    0.427848\n",
      "3    0.082532\n",
      "Name: count, dtype: float64\n",
      "\n",
      "Validation: 494 samples\n",
      "delay_bin\n",
      "2    0.125063\n",
      "1    0.106835\n",
      "3    0.018228\n",
      "Name: count, dtype: float64\n",
      "\n",
      "Test: 494 samples\n",
      "delay_bin\n",
      "2    0.125063\n",
      "1    0.106835\n",
      "3    0.018228\n",
      "Name: count, dtype: float64\n"
     ]
    }
   ],
   "source": [
    "# Check correctness\n",
    "print(f'\\nOrig: {len(data)} samples\\n{data.delay_bin.value_counts() / len(data)}')\n",
    "print(f'\\nTrain: {len(train_set)} samples\\n{train_set.delay_bin.value_counts() / len(train_set)}')\n",
    "print(f'\\nValidation: {len(val_set)} samples\\n{val_set.delay_bin.value_counts() / len(train_set)}')\n",
    "print(f'\\nTest: {len(val_set)} samples\\n{val_set.delay_bin.value_counts() / len(train_set)}')"
   ]
  },
  {
   "cell_type": "code",
   "execution_count": 16,
   "metadata": {},
   "outputs": [
    {
     "name": "stderr",
     "output_type": "stream",
     "text": [
      "/var/folders/fy/f4c573kn4x3462qpp_j4d_h80000gn/T/ipykernel_17206/1214186903.py:3: SettingWithCopyWarning: \n",
      "A value is trying to be set on a copy of a slice from a DataFrame\n",
      "\n",
      "See the caveats in the documentation: https://pandas.pydata.org/pandas-docs/stable/user_guide/indexing.html#returning-a-view-versus-a-copy\n",
      "  set_.drop('delay_bin', axis=1, inplace=True)\n",
      "/var/folders/fy/f4c573kn4x3462qpp_j4d_h80000gn/T/ipykernel_17206/1214186903.py:3: SettingWithCopyWarning: \n",
      "A value is trying to be set on a copy of a slice from a DataFrame\n",
      "\n",
      "See the caveats in the documentation: https://pandas.pydata.org/pandas-docs/stable/user_guide/indexing.html#returning-a-view-versus-a-copy\n",
      "  set_.drop('delay_bin', axis=1, inplace=True)\n",
      "/var/folders/fy/f4c573kn4x3462qpp_j4d_h80000gn/T/ipykernel_17206/1214186903.py:3: SettingWithCopyWarning: \n",
      "A value is trying to be set on a copy of a slice from a DataFrame\n",
      "\n",
      "See the caveats in the documentation: https://pandas.pydata.org/pandas-docs/stable/user_guide/indexing.html#returning-a-view-versus-a-copy\n",
      "  set_.drop('delay_bin', axis=1, inplace=True)\n"
     ]
    }
   ],
   "source": [
    "# drop 'delay_bin' column\n",
    "for set_ in (train_set, val_set, test_set):\n",
    "    set_.drop('delay_bin', axis=1, inplace=True)"
   ]
  },
  {
   "cell_type": "markdown",
   "metadata": {},
   "source": [
    "Since the number of attributes is quite small, we can try to find the correlation dataset and see which feature influences the target the most"
   ]
  },
  {
   "cell_type": "code",
   "execution_count": 17,
   "metadata": {},
   "outputs": [
    {
     "ename": "ValueError",
     "evalue": "could not convert string to float: 'NH'",
     "output_type": "error",
     "traceback": [
      "\u001b[0;31m---------------------------------------------------------------------------\u001b[0m",
      "\u001b[0;31mValueError\u001b[0m                                Traceback (most recent call last)",
      "\u001b[1;32m/Users/longhoang/Desktop/airline-delay-prediction/analysis/delay-small.ipynb Cell 21\u001b[0m line \u001b[0;36m1\n\u001b[0;32m----> <a href='vscode-notebook-cell:/Users/longhoang/Desktop/airline-delay-prediction/analysis/delay-small.ipynb#X26sZmlsZQ%3D%3D?line=0'>1</a>\u001b[0m cm \u001b[39m=\u001b[39m train_set\u001b[39m.\u001b[39;49mcorr()\n\u001b[1;32m      <a href='vscode-notebook-cell:/Users/longhoang/Desktop/airline-delay-prediction/analysis/delay-small.ipynb#X26sZmlsZQ%3D%3D?line=1'>2</a>\u001b[0m cm[\u001b[39m'\u001b[39m\u001b[39mdelayed\u001b[39m\u001b[39m'\u001b[39m]\u001b[39m.\u001b[39msort_values(ascending\u001b[39m=\u001b[39m\u001b[39mFalse\u001b[39;00m)\n",
      "File \u001b[0;32m~/opt/anaconda3/envs/longhoang/lib/python3.11/site-packages/pandas/core/frame.py:10707\u001b[0m, in \u001b[0;36mDataFrame.corr\u001b[0;34m(self, method, min_periods, numeric_only)\u001b[0m\n\u001b[1;32m  10705\u001b[0m cols \u001b[39m=\u001b[39m data\u001b[39m.\u001b[39mcolumns\n\u001b[1;32m  10706\u001b[0m idx \u001b[39m=\u001b[39m cols\u001b[39m.\u001b[39mcopy()\n\u001b[0;32m> 10707\u001b[0m mat \u001b[39m=\u001b[39m data\u001b[39m.\u001b[39;49mto_numpy(dtype\u001b[39m=\u001b[39;49m\u001b[39mfloat\u001b[39;49m, na_value\u001b[39m=\u001b[39;49mnp\u001b[39m.\u001b[39;49mnan, copy\u001b[39m=\u001b[39;49m\u001b[39mFalse\u001b[39;49;00m)\n\u001b[1;32m  10709\u001b[0m \u001b[39mif\u001b[39;00m method \u001b[39m==\u001b[39m \u001b[39m\"\u001b[39m\u001b[39mpearson\u001b[39m\u001b[39m\"\u001b[39m:\n\u001b[1;32m  10710\u001b[0m     correl \u001b[39m=\u001b[39m libalgos\u001b[39m.\u001b[39mnancorr(mat, minp\u001b[39m=\u001b[39mmin_periods)\n",
      "File \u001b[0;32m~/opt/anaconda3/envs/longhoang/lib/python3.11/site-packages/pandas/core/frame.py:1892\u001b[0m, in \u001b[0;36mDataFrame.to_numpy\u001b[0;34m(self, dtype, copy, na_value)\u001b[0m\n\u001b[1;32m   1890\u001b[0m \u001b[39mif\u001b[39;00m dtype \u001b[39mis\u001b[39;00m \u001b[39mnot\u001b[39;00m \u001b[39mNone\u001b[39;00m:\n\u001b[1;32m   1891\u001b[0m     dtype \u001b[39m=\u001b[39m np\u001b[39m.\u001b[39mdtype(dtype)\n\u001b[0;32m-> 1892\u001b[0m result \u001b[39m=\u001b[39m \u001b[39mself\u001b[39;49m\u001b[39m.\u001b[39;49m_mgr\u001b[39m.\u001b[39;49mas_array(dtype\u001b[39m=\u001b[39;49mdtype, copy\u001b[39m=\u001b[39;49mcopy, na_value\u001b[39m=\u001b[39;49mna_value)\n\u001b[1;32m   1893\u001b[0m \u001b[39mif\u001b[39;00m result\u001b[39m.\u001b[39mdtype \u001b[39mis\u001b[39;00m \u001b[39mnot\u001b[39;00m dtype:\n\u001b[1;32m   1894\u001b[0m     result \u001b[39m=\u001b[39m np\u001b[39m.\u001b[39marray(result, dtype\u001b[39m=\u001b[39mdtype, copy\u001b[39m=\u001b[39m\u001b[39mFalse\u001b[39;00m)\n",
      "File \u001b[0;32m~/opt/anaconda3/envs/longhoang/lib/python3.11/site-packages/pandas/core/internals/managers.py:1656\u001b[0m, in \u001b[0;36mBlockManager.as_array\u001b[0;34m(self, dtype, copy, na_value)\u001b[0m\n\u001b[1;32m   1654\u001b[0m         arr\u001b[39m.\u001b[39mflags\u001b[39m.\u001b[39mwriteable \u001b[39m=\u001b[39m \u001b[39mFalse\u001b[39;00m\n\u001b[1;32m   1655\u001b[0m \u001b[39melse\u001b[39;00m:\n\u001b[0;32m-> 1656\u001b[0m     arr \u001b[39m=\u001b[39m \u001b[39mself\u001b[39;49m\u001b[39m.\u001b[39;49m_interleave(dtype\u001b[39m=\u001b[39;49mdtype, na_value\u001b[39m=\u001b[39;49mna_value)\n\u001b[1;32m   1657\u001b[0m     \u001b[39m# The underlying data was copied within _interleave, so no need\u001b[39;00m\n\u001b[1;32m   1658\u001b[0m     \u001b[39m# to further copy if copy=True or setting na_value\u001b[39;00m\n\u001b[1;32m   1660\u001b[0m \u001b[39mif\u001b[39;00m na_value \u001b[39mis\u001b[39;00m lib\u001b[39m.\u001b[39mno_default:\n",
      "File \u001b[0;32m~/opt/anaconda3/envs/longhoang/lib/python3.11/site-packages/pandas/core/internals/managers.py:1715\u001b[0m, in \u001b[0;36mBlockManager._interleave\u001b[0;34m(self, dtype, na_value)\u001b[0m\n\u001b[1;32m   1713\u001b[0m     \u001b[39melse\u001b[39;00m:\n\u001b[1;32m   1714\u001b[0m         arr \u001b[39m=\u001b[39m blk\u001b[39m.\u001b[39mget_values(dtype)\n\u001b[0;32m-> 1715\u001b[0m     result[rl\u001b[39m.\u001b[39;49mindexer] \u001b[39m=\u001b[39m arr\n\u001b[1;32m   1716\u001b[0m     itemmask[rl\u001b[39m.\u001b[39mindexer] \u001b[39m=\u001b[39m \u001b[39m1\u001b[39m\n\u001b[1;32m   1718\u001b[0m \u001b[39mif\u001b[39;00m \u001b[39mnot\u001b[39;00m itemmask\u001b[39m.\u001b[39mall():\n",
      "\u001b[0;31mValueError\u001b[0m: could not convert string to float: 'NH'"
     ]
    }
   ],
   "source": [
    "cm = train_set.corr()\n",
    "cm['delayed'].sort_values(ascending=False)"
   ]
  },
  {
   "cell_type": "markdown",
   "metadata": {},
   "source": [
    "Visualize the influence of Estimated departure hour on the delay time"
   ]
  },
  {
   "cell_type": "code",
   "execution_count": null,
   "metadata": {},
   "outputs": [
    {
     "data": {
      "text/plain": [
       "Text(0, 0.5, 'Delay time')"
      ]
     },
     "execution_count": 15,
     "metadata": {},
     "output_type": "execute_result"
    },
    {
     "data": {
      "image/png": "[encoded data removed]",
      "text/plain": [
       "<Figure size 640x480 with 1 Axes>"
      ]
     },
     "metadata": {},
     "output_type": "display_data"
    }
   ],
   "source": [
    "plt.scatter(train_set.dep_est_hour, train_set.delayed, marker='o', alpha=0.2)\n",
    "plt.xlabel('Estimated depature hour')\n",
    "plt.ylabel('Delay time')"
   ]
  },
  {
   "cell_type": "code",
   "execution_count": null,
   "metadata": {},
   "outputs": [
    {
     "data": {
      "text/plain": [
       "1385"
      ]
     },
     "execution_count": 16,
     "metadata": {},
     "output_type": "execute_result"
    }
   ],
   "source": [
    "train_set.delayed.max()"
   ]
  },
  {
   "cell_type": "markdown",
   "metadata": {},
   "source": [
    "?? Some guys have delay time of 1385 minutes (23 hours)"
   ]
  },
  {
   "cell_type": "code",
   "execution_count": null,
   "metadata": {},
   "outputs": [
    {
     "data": {
      "text/plain": [
       "Text(0, 0.5, 'Delay time')"
      ]
     },
     "execution_count": 17,
     "metadata": {},
     "output_type": "execute_result"
    },
    {
     "data": {
      "image/png": "[encoded data removed]",
      "text/plain": [
       "<Figure size 640x480 with 1 Axes>"
      ]
     },
     "metadata": {},
     "output_type": "display_data"
    }
   ],
   "source": [
    "plt.scatter(train_set.arr_est_day, train_set.delayed, marker='o', alpha=0.2)\n",
    "plt.xlabel('Estimated arrival day')\n",
    "plt.ylabel('Delay time')"
   ]
  },
  {
   "cell_type": "markdown",
   "metadata": {},
   "source": [
    "There is too little data for this feature to say anything 🥲"
   ]
  },
  {
   "cell_type": "code",
   "execution_count": null,
   "metadata": {},
   "outputs": [
    {
     "data": {
      "text/html": [
       "<div>\n",
       "<style scoped>\n",
       "    .dataframe tbody tr th:only-of-type {\n",
       "        vertical-align: middle;\n",
       "    }\n",
       "\n",
       "    .dataframe tbody tr th {\n",
       "        vertical-align: top;\n",
       "    }\n",
       "\n",
       "    .dataframe thead th {\n",
       "        text-align: right;\n",
       "    }\n",
       "</style>\n",
       "<table border=\"1\" class=\"dataframe\">\n",
       "  <thead>\n",
       "    <tr style=\"text-align: right;\">\n",
       "      <th></th>\n",
       "      <th>airline_iata</th>\n",
       "      <th>dep_country_code</th>\n",
       "      <th>arr_country_code</th>\n",
       "      <th>domestic</th>\n",
       "      <th>international</th>\n",
       "      <th>delayed</th>\n",
       "      <th>year</th>\n",
       "      <th>month</th>\n",
       "      <th>dep_est_day</th>\n",
       "      <th>dep_est_hour</th>\n",
       "      <th>dep_est_minute</th>\n",
       "      <th>arr_est_day</th>\n",
       "      <th>arr_est_hour</th>\n",
       "      <th>arr_est_minute</th>\n",
       "    </tr>\n",
       "  </thead>\n",
       "  <tbody>\n",
       "    <tr>\n",
       "      <th>1512</th>\n",
       "      <td>NH</td>\n",
       "      <td>JP</td>\n",
       "      <td>JP</td>\n",
       "      <td>True</td>\n",
       "      <td>False</td>\n",
       "      <td>43</td>\n",
       "      <td>2023.0</td>\n",
       "      <td>10.0</td>\n",
       "      <td>5.0</td>\n",
       "      <td>1.0</td>\n",
       "      <td>23.0</td>\n",
       "      <td>5.0</td>\n",
       "      <td>3.0</td>\n",
       "      <td>13.0</td>\n",
       "    </tr>\n",
       "    <tr>\n",
       "      <th>199</th>\n",
       "      <td>JQ</td>\n",
       "      <td>AU</td>\n",
       "      <td>AU</td>\n",
       "      <td>True</td>\n",
       "      <td>False</td>\n",
       "      <td>56</td>\n",
       "      <td>2023.0</td>\n",
       "      <td>10.0</td>\n",
       "      <td>5.0</td>\n",
       "      <td>1.0</td>\n",
       "      <td>51.0</td>\n",
       "      <td>5.0</td>\n",
       "      <td>3.0</td>\n",
       "      <td>50.0</td>\n",
       "    </tr>\n",
       "    <tr>\n",
       "      <th>786</th>\n",
       "      <td>UA</td>\n",
       "      <td>US</td>\n",
       "      <td>US</td>\n",
       "      <td>True</td>\n",
       "      <td>False</td>\n",
       "      <td>49</td>\n",
       "      <td>2023.0</td>\n",
       "      <td>10.0</td>\n",
       "      <td>5.0</td>\n",
       "      <td>2.0</td>\n",
       "      <td>51.0</td>\n",
       "      <td>5.0</td>\n",
       "      <td>5.0</td>\n",
       "      <td>16.0</td>\n",
       "    </tr>\n",
       "    <tr>\n",
       "      <th>476</th>\n",
       "      <td>BR</td>\n",
       "      <td>JP</td>\n",
       "      <td>TW</td>\n",
       "      <td>False</td>\n",
       "      <td>True</td>\n",
       "      <td>50</td>\n",
       "      <td>NaN</td>\n",
       "      <td>NaN</td>\n",
       "      <td>5.0</td>\n",
       "      <td>5.0</td>\n",
       "      <td>0.0</td>\n",
       "      <td>NaN</td>\n",
       "      <td>NaN</td>\n",
       "      <td>NaN</td>\n",
       "    </tr>\n",
       "    <tr>\n",
       "      <th>646</th>\n",
       "      <td>WN</td>\n",
       "      <td>US</td>\n",
       "      <td>US</td>\n",
       "      <td>True</td>\n",
       "      <td>False</td>\n",
       "      <td>88</td>\n",
       "      <td>2023.0</td>\n",
       "      <td>10.0</td>\n",
       "      <td>5.0</td>\n",
       "      <td>4.0</td>\n",
       "      <td>0.0</td>\n",
       "      <td>5.0</td>\n",
       "      <td>5.0</td>\n",
       "      <td>8.0</td>\n",
       "    </tr>\n",
       "  </tbody>\n",
       "</table>\n",
       "</div>"
      ],
      "text/plain": [
       "     airline_iata dep_country_code arr_country_code  domestic  international  \\\n",
       "1512           NH               JP               JP      True          False   \n",
       "199            JQ               AU               AU      True          False   \n",
       "786            UA               US               US      True          False   \n",
       "476            BR               JP               TW     False           True   \n",
       "646            WN               US               US      True          False   \n",
       "\n",
       "      delayed    year  month  dep_est_day  dep_est_hour  dep_est_minute  \\\n",
       "1512       43  2023.0   10.0          5.0           1.0            23.0   \n",
       "199        56  2023.0   10.0          5.0           1.0            51.0   \n",
       "786        49  2023.0   10.0          5.0           2.0            51.0   \n",
       "476        50     NaN    NaN          5.0           5.0             0.0   \n",
       "646        88  2023.0   10.0          5.0           4.0             0.0   \n",
       "\n",
       "      arr_est_day  arr_est_hour  arr_est_minute  \n",
       "1512          5.0           3.0            13.0  \n",
       "199           5.0           3.0            50.0  \n",
       "786           5.0           5.0            16.0  \n",
       "476           NaN           NaN             NaN  \n",
       "646           5.0           5.0             8.0  "
      ]
     },
     "execution_count": 18,
     "metadata": {},
     "output_type": "execute_result"
    }
   ],
   "source": [
    "train_set.head()"
   ]
  },
  {
   "cell_type": "markdown",
   "metadata": {},
   "source": [
    "# Preprocessing data for ML model"
   ]
  },
  {
   "cell_type": "code",
   "execution_count": null,
   "metadata": {},
   "outputs": [],
   "source": [
    "train_data = train_set.drop('delayed', axis=1)\n",
    "train_labels = train_set['delayed'].copy()"
   ]
  },
  {
   "cell_type": "markdown",
   "metadata": {},
   "source": [
    "There are some columns with missing values (NaN). Let's deal with that"
   ]
  },
  {
   "cell_type": "code",
   "execution_count": null,
   "metadata": {},
   "outputs": [
    {
     "name": "stdout",
     "output_type": "stream",
     "text": [
      "<class 'pandas.core.frame.DataFrame'>\n",
      "Int64Index: 1975 entries, 1512 to 1169\n",
      "Data columns (total 13 columns):\n",
      " #   Column            Non-Null Count  Dtype  \n",
      "---  ------            --------------  -----  \n",
      " 0   airline_iata      1968 non-null   object \n",
      " 1   dep_country_code  1975 non-null   object \n",
      " 2   arr_country_code  1975 non-null   object \n",
      " 3   domestic          1975 non-null   bool   \n",
      " 4   international     1975 non-null   bool   \n",
      " 5   year              1834 non-null   float64\n",
      " 6   month             1834 non-null   float64\n",
      " 7   dep_est_day       1951 non-null   float64\n",
      " 8   dep_est_hour      1951 non-null   float64\n",
      " 9   dep_est_minute    1951 non-null   float64\n",
      " 10  arr_est_day       1834 non-null   float64\n",
      " 11  arr_est_hour      1834 non-null   float64\n",
      " 12  arr_est_minute    1834 non-null   float64\n",
      "dtypes: bool(2), float64(8), object(3)\n",
      "memory usage: 189.0+ KB\n"
     ]
    }
   ],
   "source": [
    "train_data.info()"
   ]
  },
  {
   "cell_type": "code",
   "execution_count": null,
   "metadata": {},
   "outputs": [
    {
     "name": "stdout",
     "output_type": "stream",
     "text": [
      "Numerical attributes: ['arr_est_hour', 'arr_est_minute', 'dep_est_day', 'arr_est_day', 'dep_est_minute', 'year', 'month', 'dep_est_hour']\n",
      "Boolean attributes: ['domestic', 'international']\n",
      "Categorical attributes: ['airline_iata', 'dep_country_code', 'arr_country_code']\n"
     ]
    }
   ],
   "source": [
    "cat_cols = ['airline_iata', 'dep_country_code', 'arr_country_code']\n",
    "bool_cols = ['domestic', 'international']\n",
    "\n",
    "num_cols = list(set(train_data) - set(cat_cols) - set(bool_cols))\n",
    "\n",
    "print(f'Numerical attributes: {num_cols}')\n",
    "print(f'Boolean attributes: {bool_cols}')\n",
    "print(f'Categorical attributes: {cat_cols}')"
   ]
  },
  {
   "cell_type": "markdown",
   "metadata": {},
   "source": [
    "Creating processing pipeline for each type of attributes and then combining them all together"
   ]
  },
  {
   "cell_type": "code",
   "execution_count": null,
   "metadata": {},
   "outputs": [],
   "source": [
    "from sklearn.pipeline import Pipeline\n",
    "from sklearn.preprocessing import StandardScaler, OneHotEncoder\n",
    "from sklearn.impute import SimpleImputer\n",
    "from sklearn.compose import ColumnTransformer\n",
    "\n",
    "num_pipeline = Pipeline([\n",
    "    ('medi_imputer', SimpleImputer(strategy='median')),\n",
    "    ('std_scaler', StandardScaler())\n",
    "])\n",
    "\n",
    "cat_pipeline = Pipeline([\n",
    "    ('freq_imputer', SimpleImputer(strategy='most_frequent')),\n",
    "    ('one_hot_encoder', OneHotEncoder(handle_unknown='ignore'))\n",
    "])\n",
    "\n",
    "full_pipline = ColumnTransformer([\n",
    "    ('num', num_pipeline, num_cols),\n",
    "    ('cat', cat_pipeline, cat_cols),\n",
    "    ('bool', OneHotEncoder(), bool_cols)\n",
    "])"
   ]
  },
  {
   "cell_type": "code",
   "execution_count": null,
   "metadata": {},
   "outputs": [
    {
     "data": {
      "text/plain": [
       "<1975x266 sparse matrix of type '<class 'numpy.float64'>'\n",
       "\twith 19750 stored elements in Compressed Sparse Row format>"
      ]
     },
     "execution_count": 23,
     "metadata": {},
     "output_type": "execute_result"
    }
   ],
   "source": [
    "train_data_ready = full_pipline.fit_transform(train_data)\n",
    "train_data_ready"
   ]
  },
  {
   "cell_type": "markdown",
   "metadata": {},
   "source": [
    "# Training models"
   ]
  },
  {
   "cell_type": "markdown",
   "metadata": {},
   "source": [
    "Trying the simplest possible model for regression: Linear regression, and see how it does"
   ]
  },
  {
   "cell_type": "code",
   "execution_count": null,
   "metadata": {},
   "outputs": [
    {
     "data": {
      "text/plain": [
       "98.15722447321252"
      ]
     },
     "execution_count": 24,
     "metadata": {},
     "output_type": "execute_result"
    }
   ],
   "source": [
    "from sklearn.metrics import mean_squared_error\n",
    "from sklearn.linear_model import LinearRegression\n",
    "\n",
    "lin_reg = LinearRegression()\n",
    "lin_reg.fit(train_data_ready, train_labels)\n",
    "\n",
    "train_preds_lin_reg = lin_reg.predict(train_data_ready)\n",
    "lin_reg_mse = mean_squared_error(train_labels, train_preds_lin_reg)\n",
    "np.sqrt(lin_reg_mse)"
   ]
  },
  {
   "cell_type": "markdown",
   "metadata": {},
   "source": [
    "Prediction error of 98 minutes is not really good. Let's use better model"
   ]
  },
  {
   "cell_type": "code",
   "execution_count": null,
   "metadata": {},
   "outputs": [
    {
     "data": {
      "text/plain": [
       "3.8536299945663046"
      ]
     },
     "execution_count": 25,
     "metadata": {},
     "output_type": "execute_result"
    }
   ],
   "source": [
    "from sklearn.tree import DecisionTreeRegressor\n",
    "\n",
    "tree_reg = DecisionTreeRegressor()\n",
    "tree_reg.fit(train_data_ready, train_labels)\n",
    "\n",
    "# see if it fits the traind data well\n",
    "train_preds = tree_reg.predict(train_data_ready)\n",
    "tree_mse = mean_squared_error(train_labels, train_preds)\n",
    "np.sqrt(tree_mse)"
   ]
  },
  {
   "cell_type": "markdown",
   "metadata": {},
   "source": [
    "Look much better but the model might be overfitting so let's test it with `Cross validation`"
   ]
  },
  {
   "cell_type": "code",
   "execution_count": null,
   "metadata": {},
   "outputs": [],
   "source": [
    "from sklearn.model_selection import cross_val_score\n",
    "\n",
    "scores = cross_val_score(tree_reg, train_data_ready, train_labels, \n",
    "                         scoring='neg_mean_squared_error', cv=10)\n",
    "\n",
    "tree_rmse_scores = np.sqrt(-scores)"
   ]
  },
  {
   "cell_type": "code",
   "execution_count": null,
   "metadata": {},
   "outputs": [],
   "source": [
    "def display_scores(scores):\n",
    "    print('Scores:', scores)\n",
    "    print('Mean:', scores.mean())\n",
    "    print('Std:', scores.std())"
   ]
  },
  {
   "cell_type": "code",
   "execution_count": null,
   "metadata": {},
   "outputs": [
    {
     "name": "stdout",
     "output_type": "stream",
     "text": [
      "Scores: [113.96056934 110.0784844   43.06631016 105.32769931  50.26384929\n",
      "  89.78045699  95.53554631  72.91149728  86.51832939  48.14924977]\n",
      "Mean: 81.55919922344553\n",
      "Std: 25.23443925434493\n"
     ]
    }
   ],
   "source": [
    "display_scores(tree_rmse_scores)"
   ]
  },
  {
   "cell_type": "code",
   "execution_count": null,
   "metadata": {},
   "outputs": [
    {
     "name": "stdout",
     "output_type": "stream",
     "text": [
      "Scores: [107.01989698 124.32221124 106.40378875 135.57890948 109.85052482\n",
      " 101.07654625 102.94451368 140.37059245 127.52893441 122.33930221]\n",
      "Mean: 117.74352202820532\n",
      "Std: 13.390010545138042\n"
     ]
    }
   ],
   "source": [
    "# Do cross val with linear regression\n",
    "lin_scores = cross_val_score(lin_reg, train_data_ready, train_labels, \n",
    "                         scoring='neg_mean_squared_error', cv=10)\n",
    "\n",
    "lin_rmse_scores = np.sqrt(-lin_scores)\n",
    "display_scores(lin_rmse_scores)"
   ]
  },
  {
   "cell_type": "markdown",
   "metadata": {},
   "source": [
    "Decision tree seems to do a better job than linear regression, though it has more error fluctation (higher standard deviation). Let's try one of the best model for tabular data, random forest"
   ]
  },
  {
   "cell_type": "code",
   "execution_count": null,
   "metadata": {},
   "outputs": [
    {
     "name": "stdout",
     "output_type": "stream",
     "text": [
      "Train loss: 26.1163955140791\n"
     ]
    }
   ],
   "source": [
    "from sklearn.ensemble import RandomForestRegressor\n",
    "\n",
    "forest_reg = RandomForestRegressor()\n",
    "forest_reg.fit(train_data_ready, train_labels)\n",
    "\n",
    "train_preds = forest_reg.predict(train_data_ready)\n",
    "train_forest_mse = mean_squared_error(train_labels, train_preds)\n",
    "train_forest_rmse = np.sqrt(train_forest_mse)\n",
    "print('Train loss:', train_forest_rmse)"
   ]
  },
  {
   "cell_type": "code",
   "execution_count": null,
   "metadata": {},
   "outputs": [
    {
     "name": "stdout",
     "output_type": "stream",
     "text": [
      "Cross validation losses:\n",
      "Scores: [75.43013347 98.47513772 66.25407385 92.82782995 48.40012257 51.08456863\n",
      " 71.36861144 72.66061218 78.83343648 48.16534586]\n",
      "Mean: 70.34998721458102\n",
      "Std: 16.620224472883717\n"
     ]
    }
   ],
   "source": [
    "forest_scores = cross_val_score(forest_reg, train_data_ready, train_labels, \n",
    "                         scoring='neg_mean_squared_error', cv=10)\n",
    "\n",
    "forest_rmse_scores = np.sqrt(-forest_scores)\n",
    "print('Cross validation losses:')\n",
    "display_scores(forest_rmse_scores)"
   ]
  },
  {
   "cell_type": "markdown",
   "metadata": {},
   "source": [
    "Random forest seems to do better than decision tree in terms of smaller error variation (lower standard deviation). However, the model is overfitting since the train loss is much smaller than validation losses"
   ]
  },
  {
   "cell_type": "markdown",
   "metadata": {},
   "source": [
    "# Tuning hyperparameters"
   ]
  },
  {
   "cell_type": "code",
   "execution_count": null,
   "metadata": {},
   "outputs": [],
   "source": [
    "from sklearn.model_selection import GridSearchCV\n",
    "\n",
    "param_grid = [\n",
    "    {'n_estimators': [1, 3, 10, 30, 50, 100], \n",
    "     'max_features': [1, 3, 10, 30, 100, 150, 200, 250], \n",
    "     'bootstrap': [False, True],\n",
    "     'max_depth': [1, 3, 10, 30, 50, 100]}\n",
    "]\n",
    "\n",
    "model = RandomForestRegressor()\n",
    "\n",
    "grid_search = GridSearchCV(model, param_grid, cv=5,\n",
    "                           scoring='neg_mean_squared_error',\n",
    "                           return_train_score=True)\n",
    "\n",
    "# grid_search.fit(train_data_ready, train_labels) # uncomment this to do grid search"
   ]
  },
  {
   "cell_type": "code",
   "execution_count": null,
   "metadata": {},
   "outputs": [],
   "source": [
    "# UNCOMMENT 2 LINES BELOW TO GET THE BEST MODEL FROM GRID SEARCH\n",
    "# print(grid_search.best_params_)\n",
    "# model_tuned = grid_search.best_estimator_\n",
    "\n",
    "# Best model from grid search\n",
    "model_tuned = RandomForestRegressor(n_estimators=10,\n",
    "                                    max_depth=100,\n",
    "                                    max_features=100,\n",
    "                                    bootstrap=False)"
   ]
  },
  {
   "cell_type": "code",
   "execution_count": null,
   "metadata": {},
   "outputs": [
    {
     "name": "stdout",
     "output_type": "stream",
     "text": [
      "Cross validation losses:\n",
      "Scores: [101.36791627  85.41065318  57.98105016  57.32779265  70.68609911]\n",
      "Mean: 74.55470227465926\n",
      "Std: 16.871387407107758\n"
     ]
    }
   ],
   "source": [
    "forest_scores = cross_val_score(model_tuned, train_data_ready, train_labels, \n",
    "                         scoring='neg_mean_squared_error', cv=5)\n",
    "\n",
    "forest_rmse_scores = np.sqrt(-forest_scores)\n",
    "print('Cross validation losses:')\n",
    "display_scores(forest_rmse_scores)"
   ]
  },
  {
   "cell_type": "markdown",
   "metadata": {},
   "source": [
    "# Analyze model"
   ]
  },
  {
   "cell_type": "code",
   "execution_count": null,
   "metadata": {},
   "outputs": [
    {
     "data": {
      "text/plain": [
       "array([1.36863039e-01, 1.57619700e-01, 0.00000000e+00, 3.09957854e-02,\n",
       "       1.43231522e-01, 0.00000000e+00, 0.00000000e+00, 2.89876860e-01,\n",
       "       1.10135637e-04, 1.15496128e-05, 1.72643148e-03, 0.00000000e+00,\n",
       "       2.04248245e-05, 5.34642742e-04, 1.99521864e-04, 0.00000000e+00,\n",
       "       2.47213187e-05, 3.82978488e-05, 0.00000000e+00, 4.19334638e-09,\n",
       "       0.00000000e+00, 1.17936626e-05, 7.44517679e-05, 0.00000000e+00,\n",
       "       4.02810633e-03, 1.04082179e-03, 3.46456293e-05, 2.36441202e-04,\n",
       "       6.94984173e-05, 4.89703513e-03, 3.97312728e-05, 1.87450237e-04,\n",
       "       1.00640313e-08, 1.31547829e-03, 0.00000000e+00, 2.56612087e-04,\n",
       "       1.86386819e-08, 0.00000000e+00, 5.82152990e-03, 1.49066536e-03,\n",
       "       3.25088064e-05, 0.00000000e+00, 8.73930658e-05, 4.22224787e-05,\n",
       "       3.99324015e-05, 2.94984228e-05, 4.65804734e-04, 3.79366056e-07,\n",
       "       4.37725183e-03, 3.27553220e-04, 3.22125245e-07, 2.59490049e-06,\n",
       "       1.78308356e-05, 5.04760503e-04, 9.57111021e-07, 8.51314875e-06,\n",
       "       9.05960080e-06, 2.32905019e-04, 5.58604506e-05, 3.17226408e-04,\n",
       "       3.49724639e-05, 2.25503708e-07, 1.14555638e-05, 2.18909823e-05,\n",
       "       1.38900405e-06, 5.54293385e-07, 5.59127143e-08, 7.15353882e-04,\n",
       "       1.05001393e-06, 6.92541833e-04, 1.15471938e-05, 8.18809210e-05,\n",
       "       2.60129994e-07, 5.87517522e-03, 0.00000000e+00, 8.94965315e-06,\n",
       "       2.16488496e-07, 7.47940503e-04, 2.17140891e-05, 3.50368674e-06,\n",
       "       1.13162315e-05, 6.32273198e-05, 7.46545514e-07, 5.74006458e-03,\n",
       "       8.94580561e-09, 2.07435906e-06, 1.77511912e-03, 1.50798625e-02,\n",
       "       6.38158694e-05, 1.11347728e-05, 0.00000000e+00, 4.39157730e-09,\n",
       "       2.89424969e-04, 1.47056955e-04, 1.53201944e-06, 2.93672818e-04,\n",
       "       9.93036784e-03, 2.09840608e-04, 0.00000000e+00, 2.31975872e-06,\n",
       "       2.92453577e-05, 2.84988522e-05, 0.00000000e+00, 0.00000000e+00,\n",
       "       5.04455853e-05, 2.03870455e-05, 5.63511883e-04, 6.12239635e-07,\n",
       "       3.64985319e-04, 1.22709069e-05, 1.23463765e-05, 1.74520023e-04,\n",
       "       4.40488454e-05, 1.83557451e-08, 8.67529606e-04, 1.71928066e-06,\n",
       "       3.28720074e-04, 2.92229650e-08, 9.29567353e-05, 9.88752108e-08,\n",
       "       7.80105684e-07, 4.47584955e-06, 6.13426670e-08, 7.25621425e-05,\n",
       "       1.05431923e-04, 1.35868251e-04, 6.42007462e-04, 3.12484916e-03,\n",
       "       3.22049002e-08, 6.06113933e-05, 2.59824875e-03, 1.06245256e-05,\n",
       "       5.17226988e-05, 3.75972741e-06, 3.80433144e-07, 6.45867536e-04,\n",
       "       6.36609885e-04, 8.34316908e-05, 2.35589813e-04, 1.66143170e-05,\n",
       "       7.48572874e-04, 8.73032311e-05, 2.49920399e-04, 2.98923496e-04,\n",
       "       1.76125913e-05, 9.23680703e-07, 2.44479880e-05, 5.98142517e-05,\n",
       "       3.04133575e-04, 8.49213461e-03, 4.81336766e-05, 5.17080782e-07,\n",
       "       1.67733855e-07, 2.50482557e-08, 1.67922250e-04, 1.94687498e-04,\n",
       "       0.00000000e+00, 1.90766458e-04, 1.61561582e-04, 0.00000000e+00,\n",
       "       4.29899911e-03, 3.80121473e-05, 1.11189435e-04, 3.20795130e-08,\n",
       "       1.81562533e-04, 8.17902227e-08, 7.23553885e-05, 1.38684374e-03,\n",
       "       1.05366443e-03, 6.25109545e-06, 8.61272137e-05, 5.61686746e-03,\n",
       "       1.19030043e-07, 1.34916145e-04, 7.55453395e-06, 8.36518967e-03,\n",
       "       4.31130677e-04, 2.59666865e-03, 6.00313805e-04, 1.66256239e-04,\n",
       "       1.26443909e-05, 2.87145479e-05, 1.70191347e-03, 6.70935421e-09,\n",
       "       3.70156105e-03, 3.92152435e-06, 2.77659191e-04, 1.46276017e-04,\n",
       "       1.16283653e-03, 4.86901468e-03, 1.84937774e-04, 2.05736255e-04,\n",
       "       5.11046400e-04, 1.60105643e-07, 4.24789678e-05, 3.55647534e-04,\n",
       "       1.24888641e-04, 5.34556289e-04, 8.65239929e-04, 1.32709831e-04,\n",
       "       4.31365152e-04, 3.25884301e-04, 3.30739984e-06, 4.48828330e-05,\n",
       "       1.02001487e-03, 1.44531977e-04, 1.06816946e-03, 2.39177234e-02,\n",
       "       5.59286562e-06, 1.25247015e-05, 1.32940740e-05, 8.92281324e-05,\n",
       "       9.72327088e-04, 3.31332502e-04, 1.92758021e-04, 1.09449979e-03,\n",
       "       2.36302875e-04, 8.98894264e-04, 2.81890414e-03, 2.50633333e-03,\n",
       "       3.94988195e-05, 7.54131413e-06, 1.03379966e-07, 5.04002514e-04,\n",
       "       9.23649322e-06, 3.32798832e-03, 1.27931067e-03, 4.60954012e-04,\n",
       "       9.37822088e-05, 1.78010468e-03, 1.57651253e-05, 4.71766456e-04,\n",
       "       2.90474972e-05, 9.35357884e-07, 5.58264904e-06, 2.13451721e-07,\n",
       "       9.91937829e-08, 1.63067787e-03, 1.65360197e-04, 7.32383556e-05,\n",
       "       4.47290280e-09, 1.46664398e-05, 4.05574062e-04, 0.00000000e+00,\n",
       "       6.67283702e-04, 2.76604491e-04, 1.78326724e-04, 4.69908937e-08,\n",
       "       8.10198598e-05, 3.76140411e-05, 2.03003412e-05, 2.41243282e-04,\n",
       "       3.51991715e-05, 1.16980236e-04, 3.09507362e-04, 1.00536237e-03,\n",
       "       2.56830278e-04, 1.09672781e-06, 2.96789946e-02, 0.00000000e+00,\n",
       "       1.07072814e-03, 8.43140674e-05, 4.45951998e-03, 4.59408641e-03,\n",
       "       1.17268249e-02, 7.46789653e-03])"
      ]
     },
     "execution_count": 42,
     "metadata": {},
     "output_type": "execute_result"
    }
   ],
   "source": [
    "model_tuned.fit(train_data_ready, train_labels)\n",
    "feature_importances = model_tuned.feature_importances_\n",
    "feature_importances"
   ]
  },
  {
   "cell_type": "code",
   "execution_count": null,
   "metadata": {},
   "outputs": [],
   "source": [
    "cat_encoder = full_pipline.named_transformers_['cat'].named_steps['one_hot_encoder']\n",
    "# cat_encoder.categories_[0]"
   ]
  },
  {
   "cell_type": "code",
   "execution_count": null,
   "metadata": {},
   "outputs": [],
   "source": [
    "bool_encoder = full_pipline.named_transformers_['bool']\n",
    "# bool_encoder.categories_[0]"
   ]
  },
  {
   "cell_type": "markdown",
   "metadata": {},
   "source": [
    "`WARNING: The sorted list of feature importance might not be correct`"
   ]
  },
  {
   "cell_type": "code",
   "execution_count": null,
   "metadata": {},
   "outputs": [
    {
     "data": {
      "text/plain": [
       "[(0.2898768604249869, 'dep_est_hour'),\n",
       " (0.15761970046296844, 'arr_est_minute'),\n",
       " (0.1432315221821403, 'dep_est_minute'),\n",
       " (0.1368630391270865, 'arr_est_hour'),\n",
       " (0.030995785406574588, 'arr_est_day'),\n",
       " (0.015079862491626617, 'JQ'),\n",
       " (0.009930367835118786, 'LA'),\n",
       " (0.008492134613610255, 'UA'),\n",
       " (0.0058751752156177076, 'HA'),\n",
       " (0.005821529903697326, 'B6'),\n",
       " (0.005740064583485796, 'JA'),\n",
       " (0.005616867456817843, 'ZL'),\n",
       " (0.0048970351296360164, 'AK'),\n",
       " (0.0043772518293087185, 'DL'),\n",
       " (0.004298999110538675, 'WN'),\n",
       " (0.004028106333080711, 'AA'),\n",
       " (0.0031248491628019072, 'QF'),\n",
       " (0.0025982487462127813, 'QR'),\n",
       " (0.0017751191184168075, 'JL'),\n",
       " (0.0017264314774827268, '3U'),\n",
       " (0.0014906653641775535, 'BA'),\n",
       " (0.0013868437374133173, 'YV'),\n",
       " (0.0013154782949234807, 'AS'),\n",
       " (0.001053664427708302, 'YX'),\n",
       " (0.0010408217853629595, 'AC'),\n",
       " (0.0008675296055079185, 'NZ'),\n",
       " (0.0007485728737553309, 'TG'),\n",
       " (0.0007479405030952331, 'IB'),\n",
       " (0.0007153538820531563, 'G3'),\n",
       " (0.0006925418334246126, 'GF'),\n",
       " (0.0006458675359878957, 'SG'),\n",
       " (0.0006420074618899134, 'PT'),\n",
       " (0.0006366098850936161, 'SK'),\n",
       " (0.0005635118832365268, 'MQ'),\n",
       " (0.0005346427422165756, '5N'),\n",
       " (0.0005047605033779256, 'EK'),\n",
       " (0.0004658047339198324, 'CZ'),\n",
       " (0.0003649853190815253, 'MU'),\n",
       " (0.00032872007354193416, 'OH'),\n",
       " (0.0003275532202307118, 'DP'),\n",
       " (0.0003172264083324214, 'F9'),\n",
       " (0.0003041335753441781, 'U6'),\n",
       " (0.0002989234961392279, 'TP'),\n",
       " (0.0002936728178767014, 'KY'),\n",
       " (0.00028942496881102244, 'KE'),\n",
       " (0.00025661208684451024, 'AV'),\n",
       " (0.00024992039918037717, 'TN'),\n",
       " (0.00023644120153806612, 'AF'),\n",
       " (0.00023558981341646146, 'SQ'),\n",
       " (0.00023290501853065444, 'EY'),\n",
       " (0.00020984060776368837, 'LH'),\n",
       " (0.00019952186350157396, '6E'),\n",
       " (0.0001946874980463901, 'VB'),\n",
       " (0.00019076645787764287, 'VN'),\n",
       " (0.00018745023694376257, 'AQ'),\n",
       " (0.00018156253296251908, 'XQ'),\n",
       " (0.0001745200232628866, 'NK'),\n",
       " (0.0001679222503232527, 'VA'),\n",
       " (0.0001615615816701797, 'VS'),\n",
       " (0.00014705695480002085, 'KL'),\n",
       " (0.00013586825131226145, 'PR'),\n",
       " (0.00013491614508423966, False),\n",
       " (0.00011118943506947054, 'WS'),\n",
       " (0.00011013563656920393, '2P'),\n",
       " (0.00010543192328565316, 'PK'),\n",
       " (9.295673534265892e-05, 'OO'),\n",
       " (8.739306577186797e-05, 'CA'),\n",
       " (8.730323111416862e-05, 'TK'),\n",
       " (8.612721365342917e-05, 'ZH'),\n",
       " (8.343169084964898e-05, 'SN'),\n",
       " (8.188092100732407e-05, 'GS'),\n",
       " (7.445176786159337e-05, '9X'),\n",
       " (7.256214245962134e-05, 'PG'),\n",
       " (7.235538852432664e-05, 'Y4'),\n",
       " (6.949841727692794e-05, 'AI'),\n",
       " (6.381586942403363e-05, 'JT'),\n",
       " (6.322731981915923e-05, 'IX'),\n",
       " (6.0611393323028376e-05, 'QQ'),\n",
       " (5.981425166706588e-05, 'U2'),\n",
       " (5.5860450556207364e-05, 'F8'),\n",
       " (5.1722698788272395e-05, 'RJ'),\n",
       " (5.044558533015172e-05, 'MF'),\n",
       " (4.813367663911928e-05, 'UL'),\n",
       " (4.404884535153585e-05, 'NQ'),\n",
       " (4.222247872108061e-05, 'CI'),\n",
       " (3.9932401541322534e-05, 'CM'),\n",
       " (3.9731272805021374e-05, 'AM'),\n",
       " (3.829784884902335e-05, '8L'),\n",
       " (3.8012147315520434e-05, 'WR'),\n",
       " (3.497246385439891e-05, 'FC'),\n",
       " (3.4645629332483395e-05, 'AD'),\n",
       " (3.250880637533682e-05, 'BR'),\n",
       " (2.949842275382193e-05, 'CX'),\n",
       " (2.9245357738685092e-05, 'LP'),\n",
       " (2.849885216428917e-05, 'LX'),\n",
       " (2.4721318717686008e-05, '7C'),\n",
       " (2.4447987970542133e-05, 'TW'),\n",
       " (2.1890982345522705e-05, 'FJ'),\n",
       " (2.171408910663377e-05, 'ID'),\n",
       " (2.0424824512123764e-05, '5J'),\n",
       " (2.0387045520594516e-05, 'MH'),\n",
       " (1.7830835552976845e-05, 'EI'),\n",
       " (1.761259126317895e-05, 'TR'),\n",
       " (1.6614317032538446e-05, 'SV'),\n",
       " (1.234637649388139e-05, 'NH'),\n",
       " (1.22709068808353e-05, 'MX'),\n",
       " (1.1793662621815048e-05, '9I'),\n",
       " (1.1549612783868558e-05, '3M'),\n",
       " (1.1547193757888889e-05, 'GJ'),\n",
       " (1.1455563796155095e-05, 'FI'),\n",
       " (1.13162315307885e-05, 'IU'),\n",
       " (1.1134772803714819e-05, 'JX'),\n",
       " (1.0624525584786217e-05, 'QS'),\n",
       " (9.05960080145429e-06, 'EW'),\n",
       " (8.949653152739417e-06, 'HU'),\n",
       " (8.513148748759173e-06, 'EU'),\n",
       " (7.554533945236279e-06, True),\n",
       " (6.2510954471417165e-06, 'Z2'),\n",
       " (4.475849551239496e-06, 'OZ'),\n",
       " (3.7597274111601953e-06, 'RV'),\n",
       " (3.5036867394760802e-06, 'IT'),\n",
       " (2.594900494213662e-06, 'DZ'),\n",
       " (2.3197587178298224e-06, 'LO'),\n",
       " (2.074359061771396e-06, 'JJ'),\n",
       " (1.7192806583920714e-06, 'OD'),\n",
       " (1.5320194410865742e-06, 'KQ'),\n",
       " (1.3890040545213247e-06, 'FO'),\n",
       " (1.0500139332572822e-06, 'GA'),\n",
       " (9.571110205807561e-07, 'ET'),\n",
       " (9.236807032010837e-07, 'TS'),\n",
       " (7.801056836912977e-07, 'OV'),\n",
       " (7.465455138990107e-07, 'J9'),\n",
       " (6.122396349322381e-07, 'MS'),\n",
       " (5.542933851142718e-07, 'FU'),\n",
       " (5.170807821010377e-07, 'UO'),\n",
       " (3.804331435869185e-07, 'SC'),\n",
       " (3.793660563972941e-07, 'DE'),\n",
       " (3.2212524455504327e-07, 'DR'),\n",
       " (2.6012999444893987e-07, 'GY'),\n",
       " (2.2550370843797274e-07, 'FD'),\n",
       " (2.164884957173862e-07, 'HY'),\n",
       " (1.6773385515291998e-07, 'UQ'),\n",
       " (1.1903004302944657e-07, 'ZW'),\n",
       " (9.887521075172619e-08, 'OS'),\n",
       " (8.17902227031409e-08, 'XY'),\n",
       " (6.134266702735186e-08, 'PC'),\n",
       " (5.591271432753101e-08, 'FZ'),\n",
       " (3.2204900189369486e-08, 'QK'),\n",
       " (3.207951304499767e-08, 'WY'),\n",
       " (2.9222964986607352e-08, 'OM'),\n",
       " (2.5048255702836155e-08, 'UU'),\n",
       " (1.8638681946206953e-08, 'AY'),\n",
       " (1.8355745141999128e-08, 'NS'),\n",
       " (1.00640313091752e-08, 'AR'),\n",
       " (8.945805608153698e-09, 'JD'),\n",
       " (4.391577298545947e-09, 'KC'),\n",
       " (4.193346378823763e-09, '9C'),\n",
       " (0.0, 'year'),\n",
       " (0.0, 'month'),\n",
       " (0.0, 'dep_est_day'),\n",
       " (0.0, 'WE'),\n",
       " (0.0, 'VJ'),\n",
       " (0.0, 'ME'),\n",
       " (0.0, 'LY'),\n",
       " (0.0, 'LJ'),\n",
       " (0.0, 'JZ'),\n",
       " (0.0, 'HO'),\n",
       " (0.0, 'BT'),\n",
       " (0.0, 'AZ'),\n",
       " (0.0, 'AT'),\n",
       " (0.0, 'A3'),\n",
       " (0.0, '9E'),\n",
       " (0.0, '8M'),\n",
       " (0.0, '6Y'),\n",
       " (0.0, '5D')]"
      ]
     },
     "execution_count": 46,
     "metadata": {},
     "output_type": "execute_result"
    }
   ],
   "source": [
    "attrs = num_cols + list(cat_encoder.categories_[0]) + list(bool_encoder.categories_[0])\n",
    "# len(attrs)\n",
    "sorted(zip(feature_importances, attrs), reverse=True)"
   ]
  },
  {
   "cell_type": "markdown",
   "metadata": {},
   "source": [
    "# Evaluating"
   ]
  },
  {
   "cell_type": "code",
   "execution_count": null,
   "metadata": {},
   "outputs": [],
   "source": [
    "val_data = val_set.drop('delayed', axis=1)\n",
    "val_labels = val_set['delayed'].copy()"
   ]
  },
  {
   "cell_type": "code",
   "execution_count": null,
   "metadata": {},
   "outputs": [
    {
     "data": {
      "text/plain": [
       "494"
      ]
     },
     "execution_count": 48,
     "metadata": {},
     "output_type": "execute_result"
    }
   ],
   "source": [
    "len(val_data)"
   ]
  },
  {
   "cell_type": "code",
   "execution_count": null,
   "metadata": {},
   "outputs": [
    {
     "data": {
      "text/plain": [
       "60.71484830556963"
      ]
     },
     "execution_count": 49,
     "metadata": {},
     "output_type": "execute_result"
    }
   ],
   "source": [
    "val_data_ready = full_pipline.transform(val_data)\n",
    "val_preds = model_tuned.predict(val_data_ready)\n",
    "\n",
    "val_mse = mean_squared_error(val_labels, val_preds)\n",
    "val_rmse = np.sqrt(val_mse)\n",
    "val_rmse"
   ]
  },
  {
   "cell_type": "markdown",
   "metadata": {},
   "source": [
    "Compute 95% confidence interval"
   ]
  },
  {
   "cell_type": "code",
   "execution_count": null,
   "metadata": {},
   "outputs": [
    {
     "data": {
      "text/plain": [
       "array([34.59999977, 78.58387637])"
      ]
     },
     "execution_count": 50,
     "metadata": {},
     "output_type": "execute_result"
    }
   ],
   "source": [
    "from scipy import stats\n",
    "\n",
    "confidence = 0.95\n",
    "squared_error = (val_preds - val_labels) ** 2\n",
    "np.sqrt(stats.t.interval(\n",
    "    confidence, len(squared_error) - 1,\n",
    "    loc = squared_error.mean(),\n",
    "    scale = stats.sem(squared_error)\n",
    "))"
   ]
  },
  {
   "cell_type": "markdown",
   "metadata": {},
   "source": [
    "That means 95% of the time the prediction error gap will lie in the range from 34.6 to 78.6 minutes"
   ]
  },
  {
   "cell_type": "markdown",
   "metadata": {},
   "source": [
    "TODO:\n",
    "- Analyze historical data + predict new data"
   ]
  },
  {
   "cell_type": "code",
   "execution_count": null,
   "metadata": {},
   "outputs": [],
   "source": []
  }
 ],
 "metadata": {
  "kernelspec": {
   "display_name": "Python 3",
   "language": "python",
   "name": "python3"
  },
  "language_info": {
   "codemirror_mode": {
    "name": "ipython",
    "version": 3
   },
   "file_extension": ".py",
   "mimetype": "text/x-python",
   "name": "python",
   "nbconvert_exporter": "python",
   "pygments_lexer": "ipython3",
   "version": "3.11.5"
  }
 },
 "nbformat": 4,
 "nbformat_minor": 2
}
