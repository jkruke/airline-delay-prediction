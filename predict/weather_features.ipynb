{
 "cells": [
  {
   "cell_type": "code",
   "execution_count": 1,
   "metadata": {},
   "outputs": [],
   "source": [
    "import pandas as pd\n",
    "import numpy as np\n",
    "import matplotlib.pyplot as plt\n",
    "from sklearn.tree import DecisionTreeRegressor\n",
    "from sklearn import tree"
   ]
  },
  {
   "cell_type": "code",
   "execution_count": 2,
   "metadata": {},
   "outputs": [
    {
     "name": "stderr",
     "output_type": "stream",
     "text": [
      "/Users/longhoang/opt/anaconda3/envs/cs224n/lib/python3.7/site-packages/IPython/core/interactiveshell.py:3457: DtypeWarning: Columns (14) have mixed types.Specify dtype option on import or set low_memory=False.\n",
      "  exec(code_obj, self.user_global_ns, self.user_ns)\n"
     ]
    },
    {
     "data": {
      "text/html": [
       "<div>\n",
       "<style scoped>\n",
       "    .dataframe tbody tr th:only-of-type {\n",
       "        vertical-align: middle;\n",
       "    }\n",
       "\n",
       "    .dataframe tbody tr th {\n",
       "        vertical-align: top;\n",
       "    }\n",
       "\n",
       "    .dataframe thead th {\n",
       "        text-align: right;\n",
       "    }\n",
       "</style>\n",
       "<table border=\"1\" class=\"dataframe\">\n",
       "  <thead>\n",
       "    <tr style=\"text-align: right;\">\n",
       "      <th></th>\n",
       "      <th>Row</th>\n",
       "      <th>flight_iata</th>\n",
       "      <th>airline_iata</th>\n",
       "      <th>dep_time_utc</th>\n",
       "      <th>dep_actual_utc</th>\n",
       "      <th>arr_time_utc</th>\n",
       "      <th>arr_actual_utc</th>\n",
       "      <th>dep_iata</th>\n",
       "      <th>arr_iata</th>\n",
       "      <th>dep_country_code</th>\n",
       "      <th>...</th>\n",
       "      <th>dep_rain</th>\n",
       "      <th>dep_snowfall</th>\n",
       "      <th>dep_weather_code</th>\n",
       "      <th>dep_cloud_cover</th>\n",
       "      <th>dep_cloud_cover_low</th>\n",
       "      <th>dep_cloud_cover_mid</th>\n",
       "      <th>dep_cloud_cover_high</th>\n",
       "      <th>dep_wind_speed_10m</th>\n",
       "      <th>dep_wind_speed_100m</th>\n",
       "      <th>dep_wind_gusts_10m</th>\n",
       "    </tr>\n",
       "  </thead>\n",
       "  <tbody>\n",
       "    <tr>\n",
       "      <th>0</th>\n",
       "      <td>0</td>\n",
       "      <td>vn30</td>\n",
       "      <td>vn</td>\n",
       "      <td>2022-10-17 14:35:00</td>\n",
       "      <td>2022-10-17 14:54:00</td>\n",
       "      <td>2022-10-18 07:55:00</td>\n",
       "      <td>2022-10-18 06:59:00</td>\n",
       "      <td>FRA</td>\n",
       "      <td>SGN</td>\n",
       "      <td>DE</td>\n",
       "      <td>...</td>\n",
       "      <td>0.0</td>\n",
       "      <td>0.0</td>\n",
       "      <td>3.0</td>\n",
       "      <td>82.199997</td>\n",
       "      <td>53.0</td>\n",
       "      <td>9.0</td>\n",
       "      <td>97.0</td>\n",
       "      <td>6.297428</td>\n",
       "      <td>13.708390</td>\n",
       "      <td>18.000000</td>\n",
       "    </tr>\n",
       "    <tr>\n",
       "      <th>1</th>\n",
       "      <td>1</td>\n",
       "      <td>qh74</td>\n",
       "      <td>qh</td>\n",
       "      <td>2022-10-17 20:10:00</td>\n",
       "      <td>2022-10-17 20:31:00</td>\n",
       "      <td>2022-10-18 12:50:00</td>\n",
       "      <td>2022-10-18 12:02:00</td>\n",
       "      <td>FRA</td>\n",
       "      <td>HAN</td>\n",
       "      <td>DE</td>\n",
       "      <td>...</td>\n",
       "      <td>0.0</td>\n",
       "      <td>0.0</td>\n",
       "      <td>2.0</td>\n",
       "      <td>78.000000</td>\n",
       "      <td>0.0</td>\n",
       "      <td>93.0</td>\n",
       "      <td>74.0</td>\n",
       "      <td>6.638072</td>\n",
       "      <td>13.551500</td>\n",
       "      <td>11.520000</td>\n",
       "    </tr>\n",
       "    <tr>\n",
       "      <th>2</th>\n",
       "      <td>2</td>\n",
       "      <td>vj910</td>\n",
       "      <td>vj</td>\n",
       "      <td>2022-10-18 01:25:00</td>\n",
       "      <td>2022-10-18 02:45:00</td>\n",
       "      <td>2022-10-18 07:45:00</td>\n",
       "      <td>NaN</td>\n",
       "      <td>BOM</td>\n",
       "      <td>HAN</td>\n",
       "      <td>IN</td>\n",
       "      <td>...</td>\n",
       "      <td>0.2</td>\n",
       "      <td>0.0</td>\n",
       "      <td>51.0</td>\n",
       "      <td>76.200005</td>\n",
       "      <td>22.0</td>\n",
       "      <td>44.0</td>\n",
       "      <td>100.0</td>\n",
       "      <td>3.219938</td>\n",
       "      <td>5.116561</td>\n",
       "      <td>9.000000</td>\n",
       "    </tr>\n",
       "    <tr>\n",
       "      <th>3</th>\n",
       "      <td>3</td>\n",
       "      <td>qr970</td>\n",
       "      <td>qr</td>\n",
       "      <td>2022-10-18 02:35:00</td>\n",
       "      <td>2022-10-18 03:03:00</td>\n",
       "      <td>2022-10-18 14:25:00</td>\n",
       "      <td>2022-10-18 14:07:00</td>\n",
       "      <td>DOH</td>\n",
       "      <td>SGN</td>\n",
       "      <td>QA</td>\n",
       "      <td>...</td>\n",
       "      <td>0.0</td>\n",
       "      <td>0.0</td>\n",
       "      <td>0.0</td>\n",
       "      <td>9.900001</td>\n",
       "      <td>0.0</td>\n",
       "      <td>0.0</td>\n",
       "      <td>33.0</td>\n",
       "      <td>11.966953</td>\n",
       "      <td>20.523155</td>\n",
       "      <td>17.280001</td>\n",
       "    </tr>\n",
       "    <tr>\n",
       "      <th>4</th>\n",
       "      <td>4</td>\n",
       "      <td>tk162</td>\n",
       "      <td>tk</td>\n",
       "      <td>2022-10-18 02:45:00</td>\n",
       "      <td>2022-10-18 02:40:00</td>\n",
       "      <td>2022-10-18 17:05:00</td>\n",
       "      <td>2022-10-18 16:06:00</td>\n",
       "      <td>IST</td>\n",
       "      <td>SGN</td>\n",
       "      <td>TR</td>\n",
       "      <td>...</td>\n",
       "      <td>0.0</td>\n",
       "      <td>0.0</td>\n",
       "      <td>2.0</td>\n",
       "      <td>61.199997</td>\n",
       "      <td>68.0</td>\n",
       "      <td>0.0</td>\n",
       "      <td>0.0</td>\n",
       "      <td>26.987997</td>\n",
       "      <td>39.463947</td>\n",
       "      <td>46.439999</td>\n",
       "    </tr>\n",
       "  </tbody>\n",
       "</table>\n",
       "<p>5 rows × 47 columns</p>\n",
       "</div>"
      ],
      "text/plain": [
       "   Row flight_iata airline_iata         dep_time_utc       dep_actual_utc  \\\n",
       "0    0        vn30           vn  2022-10-17 14:35:00  2022-10-17 14:54:00   \n",
       "1    1        qh74           qh  2022-10-17 20:10:00  2022-10-17 20:31:00   \n",
       "2    2       vj910           vj  2022-10-18 01:25:00  2022-10-18 02:45:00   \n",
       "3    3       qr970           qr  2022-10-18 02:35:00  2022-10-18 03:03:00   \n",
       "4    4       tk162           tk  2022-10-18 02:45:00  2022-10-18 02:40:00   \n",
       "\n",
       "          arr_time_utc       arr_actual_utc dep_iata arr_iata  \\\n",
       "0  2022-10-18 07:55:00  2022-10-18 06:59:00      FRA      SGN   \n",
       "1  2022-10-18 12:50:00  2022-10-18 12:02:00      FRA      HAN   \n",
       "2  2022-10-18 07:45:00                  NaN      BOM      HAN   \n",
       "3  2022-10-18 14:25:00  2022-10-18 14:07:00      DOH      SGN   \n",
       "4  2022-10-18 17:05:00  2022-10-18 16:06:00      IST      SGN   \n",
       "\n",
       "  dep_country_code  ... dep_rain  dep_snowfall  dep_weather_code  \\\n",
       "0               DE  ...      0.0           0.0               3.0   \n",
       "1               DE  ...      0.0           0.0               2.0   \n",
       "2               IN  ...      0.2           0.0              51.0   \n",
       "3               QA  ...      0.0           0.0               0.0   \n",
       "4               TR  ...      0.0           0.0               2.0   \n",
       "\n",
       "   dep_cloud_cover dep_cloud_cover_low  dep_cloud_cover_mid  \\\n",
       "0        82.199997                53.0                  9.0   \n",
       "1        78.000000                 0.0                 93.0   \n",
       "2        76.200005                22.0                 44.0   \n",
       "3         9.900001                 0.0                  0.0   \n",
       "4        61.199997                68.0                  0.0   \n",
       "\n",
       "   dep_cloud_cover_high  dep_wind_speed_10m  dep_wind_speed_100m  \\\n",
       "0                  97.0            6.297428            13.708390   \n",
       "1                  74.0            6.638072            13.551500   \n",
       "2                 100.0            3.219938             5.116561   \n",
       "3                  33.0           11.966953            20.523155   \n",
       "4                   0.0           26.987997            39.463947   \n",
       "\n",
       "   dep_wind_gusts_10m  \n",
       "0           18.000000  \n",
       "1           11.520000  \n",
       "2            9.000000  \n",
       "3           17.280001  \n",
       "4           46.439999  \n",
       "\n",
       "[5 rows x 47 columns]"
      ]
     },
     "execution_count": 2,
     "metadata": {},
     "output_type": "execute_result"
    }
   ],
   "source": [
    "DATA_CSV = '../data/history/flightsHistory.csv.gz'\n",
    "data_og = pd.read_csv(DATA_CSV)\n",
    "data_og.head()"
   ]
  },
  {
   "cell_type": "code",
   "execution_count": 3,
   "metadata": {},
   "outputs": [
    {
     "data": {
      "text/html": [
       "<div>\n",
       "<style scoped>\n",
       "    .dataframe tbody tr th:only-of-type {\n",
       "        vertical-align: middle;\n",
       "    }\n",
       "\n",
       "    .dataframe tbody tr th {\n",
       "        vertical-align: top;\n",
       "    }\n",
       "\n",
       "    .dataframe thead th {\n",
       "        text-align: right;\n",
       "    }\n",
       "</style>\n",
       "<table border=\"1\" class=\"dataframe\">\n",
       "  <thead>\n",
       "    <tr style=\"text-align: right;\">\n",
       "      <th></th>\n",
       "      <th>arr_latitude</th>\n",
       "      <th>arr_longitude</th>\n",
       "      <th>arr_temperature_2m</th>\n",
       "      <th>arr_relative_humidity_2m</th>\n",
       "      <th>arr_precipitation</th>\n",
       "      <th>arr_rain</th>\n",
       "      <th>arr_snowfall</th>\n",
       "      <th>arr_cloud_cover</th>\n",
       "      <th>arr_cloud_cover_low</th>\n",
       "      <th>arr_cloud_cover_mid</th>\n",
       "      <th>...</th>\n",
       "      <th>dep_cloud_cover</th>\n",
       "      <th>dep_cloud_cover_low</th>\n",
       "      <th>dep_cloud_cover_mid</th>\n",
       "      <th>dep_cloud_cover_high</th>\n",
       "      <th>dep_wind_speed_10m</th>\n",
       "      <th>dep_wind_speed_100m</th>\n",
       "      <th>dep_wind_gusts_10m</th>\n",
       "      <th>arr_weather_code</th>\n",
       "      <th>dep_weather_code</th>\n",
       "      <th>delayed</th>\n",
       "    </tr>\n",
       "  </thead>\n",
       "  <tbody>\n",
       "    <tr>\n",
       "      <th>0</th>\n",
       "      <td>10.8188</td>\n",
       "      <td>106.652</td>\n",
       "      <td>29.598000</td>\n",
       "      <td>73.455696</td>\n",
       "      <td>0.5</td>\n",
       "      <td>0.5</td>\n",
       "      <td>0.0</td>\n",
       "      <td>100.000000</td>\n",
       "      <td>100.0</td>\n",
       "      <td>9.0</td>\n",
       "      <td>...</td>\n",
       "      <td>82.199997</td>\n",
       "      <td>53.0</td>\n",
       "      <td>9.0</td>\n",
       "      <td>97.0</td>\n",
       "      <td>6.297428</td>\n",
       "      <td>13.708390</td>\n",
       "      <td>18.000000</td>\n",
       "      <td>53.0</td>\n",
       "      <td>3.0</td>\n",
       "      <td>-56.0</td>\n",
       "    </tr>\n",
       "    <tr>\n",
       "      <th>1</th>\n",
       "      <td>21.2212</td>\n",
       "      <td>105.807</td>\n",
       "      <td>23.088999</td>\n",
       "      <td>48.819229</td>\n",
       "      <td>0.0</td>\n",
       "      <td>0.0</td>\n",
       "      <td>0.0</td>\n",
       "      <td>3.000000</td>\n",
       "      <td>0.0</td>\n",
       "      <td>0.0</td>\n",
       "      <td>...</td>\n",
       "      <td>78.000000</td>\n",
       "      <td>0.0</td>\n",
       "      <td>93.0</td>\n",
       "      <td>74.0</td>\n",
       "      <td>6.638072</td>\n",
       "      <td>13.551500</td>\n",
       "      <td>11.520000</td>\n",
       "      <td>0.0</td>\n",
       "      <td>2.0</td>\n",
       "      <td>-48.0</td>\n",
       "    </tr>\n",
       "    <tr>\n",
       "      <th>2</th>\n",
       "      <td>21.2212</td>\n",
       "      <td>105.807</td>\n",
       "      <td>27.739000</td>\n",
       "      <td>39.287140</td>\n",
       "      <td>0.0</td>\n",
       "      <td>0.0</td>\n",
       "      <td>0.0</td>\n",
       "      <td>14.700001</td>\n",
       "      <td>0.0</td>\n",
       "      <td>0.0</td>\n",
       "      <td>...</td>\n",
       "      <td>76.200005</td>\n",
       "      <td>22.0</td>\n",
       "      <td>44.0</td>\n",
       "      <td>100.0</td>\n",
       "      <td>3.219938</td>\n",
       "      <td>5.116561</td>\n",
       "      <td>9.000000</td>\n",
       "      <td>0.0</td>\n",
       "      <td>51.0</td>\n",
       "      <td>53.0</td>\n",
       "    </tr>\n",
       "    <tr>\n",
       "      <th>3</th>\n",
       "      <td>10.8188</td>\n",
       "      <td>106.652</td>\n",
       "      <td>24.548000</td>\n",
       "      <td>88.643417</td>\n",
       "      <td>0.1</td>\n",
       "      <td>0.1</td>\n",
       "      <td>0.0</td>\n",
       "      <td>46.800003</td>\n",
       "      <td>4.0</td>\n",
       "      <td>29.0</td>\n",
       "      <td>...</td>\n",
       "      <td>9.900001</td>\n",
       "      <td>0.0</td>\n",
       "      <td>0.0</td>\n",
       "      <td>33.0</td>\n",
       "      <td>11.966953</td>\n",
       "      <td>20.523155</td>\n",
       "      <td>17.280001</td>\n",
       "      <td>51.0</td>\n",
       "      <td>0.0</td>\n",
       "      <td>-18.0</td>\n",
       "    </tr>\n",
       "    <tr>\n",
       "      <th>4</th>\n",
       "      <td>10.8188</td>\n",
       "      <td>106.652</td>\n",
       "      <td>24.048000</td>\n",
       "      <td>94.435860</td>\n",
       "      <td>0.0</td>\n",
       "      <td>0.0</td>\n",
       "      <td>0.0</td>\n",
       "      <td>37.200001</td>\n",
       "      <td>1.0</td>\n",
       "      <td>12.0</td>\n",
       "      <td>...</td>\n",
       "      <td>61.199997</td>\n",
       "      <td>68.0</td>\n",
       "      <td>0.0</td>\n",
       "      <td>0.0</td>\n",
       "      <td>26.987997</td>\n",
       "      <td>39.463947</td>\n",
       "      <td>46.439999</td>\n",
       "      <td>1.0</td>\n",
       "      <td>2.0</td>\n",
       "      <td>-59.0</td>\n",
       "    </tr>\n",
       "    <tr>\n",
       "      <th>...</th>\n",
       "      <td>...</td>\n",
       "      <td>...</td>\n",
       "      <td>...</td>\n",
       "      <td>...</td>\n",
       "      <td>...</td>\n",
       "      <td>...</td>\n",
       "      <td>...</td>\n",
       "      <td>...</td>\n",
       "      <td>...</td>\n",
       "      <td>...</td>\n",
       "      <td>...</td>\n",
       "      <td>...</td>\n",
       "      <td>...</td>\n",
       "      <td>...</td>\n",
       "      <td>...</td>\n",
       "      <td>...</td>\n",
       "      <td>...</td>\n",
       "      <td>...</td>\n",
       "      <td>...</td>\n",
       "      <td>...</td>\n",
       "      <td>...</td>\n",
       "    </tr>\n",
       "    <tr>\n",
       "      <th>370191</th>\n",
       "      <td>10.1698</td>\n",
       "      <td>103.993</td>\n",
       "      <td>30.543499</td>\n",
       "      <td>72.094849</td>\n",
       "      <td>0.0</td>\n",
       "      <td>0.0</td>\n",
       "      <td>0.0</td>\n",
       "      <td>36.900002</td>\n",
       "      <td>2.0</td>\n",
       "      <td>9.0</td>\n",
       "      <td>...</td>\n",
       "      <td>0.000000</td>\n",
       "      <td>0.0</td>\n",
       "      <td>0.0</td>\n",
       "      <td>0.0</td>\n",
       "      <td>25.501621</td>\n",
       "      <td>27.438046</td>\n",
       "      <td>38.160000</td>\n",
       "      <td>1.0</td>\n",
       "      <td>0.0</td>\n",
       "      <td>-25.0</td>\n",
       "    </tr>\n",
       "    <tr>\n",
       "      <th>370192</th>\n",
       "      <td>10.8188</td>\n",
       "      <td>106.652</td>\n",
       "      <td>31.497999</td>\n",
       "      <td>63.555786</td>\n",
       "      <td>0.0</td>\n",
       "      <td>0.0</td>\n",
       "      <td>0.0</td>\n",
       "      <td>43.200001</td>\n",
       "      <td>8.0</td>\n",
       "      <td>11.0</td>\n",
       "      <td>...</td>\n",
       "      <td>45.300003</td>\n",
       "      <td>27.0</td>\n",
       "      <td>2.0</td>\n",
       "      <td>66.0</td>\n",
       "      <td>22.331610</td>\n",
       "      <td>29.079889</td>\n",
       "      <td>31.680000</td>\n",
       "      <td>1.0</td>\n",
       "      <td>1.0</td>\n",
       "      <td>15.0</td>\n",
       "    </tr>\n",
       "    <tr>\n",
       "      <th>370193</th>\n",
       "      <td>16.0439</td>\n",
       "      <td>108.199</td>\n",
       "      <td>24.483000</td>\n",
       "      <td>86.770721</td>\n",
       "      <td>4.8</td>\n",
       "      <td>4.8</td>\n",
       "      <td>0.0</td>\n",
       "      <td>100.000000</td>\n",
       "      <td>93.0</td>\n",
       "      <td>66.0</td>\n",
       "      <td>...</td>\n",
       "      <td>54.000000</td>\n",
       "      <td>2.0</td>\n",
       "      <td>37.0</td>\n",
       "      <td>100.0</td>\n",
       "      <td>7.072878</td>\n",
       "      <td>9.000000</td>\n",
       "      <td>25.559999</td>\n",
       "      <td>63.0</td>\n",
       "      <td>2.0</td>\n",
       "      <td>-14.0</td>\n",
       "    </tr>\n",
       "    <tr>\n",
       "      <th>370194</th>\n",
       "      <td>12.6683</td>\n",
       "      <td>108.120</td>\n",
       "      <td>27.165001</td>\n",
       "      <td>64.992615</td>\n",
       "      <td>0.2</td>\n",
       "      <td>0.2</td>\n",
       "      <td>0.0</td>\n",
       "      <td>84.000000</td>\n",
       "      <td>21.0</td>\n",
       "      <td>59.0</td>\n",
       "      <td>...</td>\n",
       "      <td>43.200001</td>\n",
       "      <td>8.0</td>\n",
       "      <td>11.0</td>\n",
       "      <td>98.0</td>\n",
       "      <td>6.608722</td>\n",
       "      <td>7.903619</td>\n",
       "      <td>16.919998</td>\n",
       "      <td>51.0</td>\n",
       "      <td>1.0</td>\n",
       "      <td>-10.0</td>\n",
       "    </tr>\n",
       "    <tr>\n",
       "      <th>370195</th>\n",
       "      <td>16.0439</td>\n",
       "      <td>108.199</td>\n",
       "      <td>24.483000</td>\n",
       "      <td>86.770721</td>\n",
       "      <td>4.8</td>\n",
       "      <td>4.8</td>\n",
       "      <td>0.0</td>\n",
       "      <td>100.000000</td>\n",
       "      <td>93.0</td>\n",
       "      <td>66.0</td>\n",
       "      <td>...</td>\n",
       "      <td>100.000000</td>\n",
       "      <td>100.0</td>\n",
       "      <td>59.0</td>\n",
       "      <td>87.0</td>\n",
       "      <td>15.496736</td>\n",
       "      <td>21.602999</td>\n",
       "      <td>30.960001</td>\n",
       "      <td>63.0</td>\n",
       "      <td>3.0</td>\n",
       "      <td>2.0</td>\n",
       "    </tr>\n",
       "  </tbody>\n",
       "</table>\n",
       "<p>370196 rows × 31 columns</p>\n",
       "</div>"
      ],
      "text/plain": [
       "        arr_latitude  arr_longitude  arr_temperature_2m  \\\n",
       "0            10.8188        106.652           29.598000   \n",
       "1            21.2212        105.807           23.088999   \n",
       "2            21.2212        105.807           27.739000   \n",
       "3            10.8188        106.652           24.548000   \n",
       "4            10.8188        106.652           24.048000   \n",
       "...              ...            ...                 ...   \n",
       "370191       10.1698        103.993           30.543499   \n",
       "370192       10.8188        106.652           31.497999   \n",
       "370193       16.0439        108.199           24.483000   \n",
       "370194       12.6683        108.120           27.165001   \n",
       "370195       16.0439        108.199           24.483000   \n",
       "\n",
       "        arr_relative_humidity_2m  arr_precipitation  arr_rain  arr_snowfall  \\\n",
       "0                      73.455696                0.5       0.5           0.0   \n",
       "1                      48.819229                0.0       0.0           0.0   \n",
       "2                      39.287140                0.0       0.0           0.0   \n",
       "3                      88.643417                0.1       0.1           0.0   \n",
       "4                      94.435860                0.0       0.0           0.0   \n",
       "...                          ...                ...       ...           ...   \n",
       "370191                 72.094849                0.0       0.0           0.0   \n",
       "370192                 63.555786                0.0       0.0           0.0   \n",
       "370193                 86.770721                4.8       4.8           0.0   \n",
       "370194                 64.992615                0.2       0.2           0.0   \n",
       "370195                 86.770721                4.8       4.8           0.0   \n",
       "\n",
       "        arr_cloud_cover  arr_cloud_cover_low  arr_cloud_cover_mid  ...  \\\n",
       "0            100.000000                100.0                  9.0  ...   \n",
       "1              3.000000                  0.0                  0.0  ...   \n",
       "2             14.700001                  0.0                  0.0  ...   \n",
       "3             46.800003                  4.0                 29.0  ...   \n",
       "4             37.200001                  1.0                 12.0  ...   \n",
       "...                 ...                  ...                  ...  ...   \n",
       "370191        36.900002                  2.0                  9.0  ...   \n",
       "370192        43.200001                  8.0                 11.0  ...   \n",
       "370193       100.000000                 93.0                 66.0  ...   \n",
       "370194        84.000000                 21.0                 59.0  ...   \n",
       "370195       100.000000                 93.0                 66.0  ...   \n",
       "\n",
       "        dep_cloud_cover  dep_cloud_cover_low  dep_cloud_cover_mid  \\\n",
       "0             82.199997                 53.0                  9.0   \n",
       "1             78.000000                  0.0                 93.0   \n",
       "2             76.200005                 22.0                 44.0   \n",
       "3              9.900001                  0.0                  0.0   \n",
       "4             61.199997                 68.0                  0.0   \n",
       "...                 ...                  ...                  ...   \n",
       "370191         0.000000                  0.0                  0.0   \n",
       "370192        45.300003                 27.0                  2.0   \n",
       "370193        54.000000                  2.0                 37.0   \n",
       "370194        43.200001                  8.0                 11.0   \n",
       "370195       100.000000                100.0                 59.0   \n",
       "\n",
       "        dep_cloud_cover_high  dep_wind_speed_10m  dep_wind_speed_100m  \\\n",
       "0                       97.0            6.297428            13.708390   \n",
       "1                       74.0            6.638072            13.551500   \n",
       "2                      100.0            3.219938             5.116561   \n",
       "3                       33.0           11.966953            20.523155   \n",
       "4                        0.0           26.987997            39.463947   \n",
       "...                      ...                 ...                  ...   \n",
       "370191                   0.0           25.501621            27.438046   \n",
       "370192                  66.0           22.331610            29.079889   \n",
       "370193                 100.0            7.072878             9.000000   \n",
       "370194                  98.0            6.608722             7.903619   \n",
       "370195                  87.0           15.496736            21.602999   \n",
       "\n",
       "        dep_wind_gusts_10m  arr_weather_code  dep_weather_code  delayed  \n",
       "0                18.000000              53.0               3.0    -56.0  \n",
       "1                11.520000               0.0               2.0    -48.0  \n",
       "2                 9.000000               0.0              51.0     53.0  \n",
       "3                17.280001              51.0               0.0    -18.0  \n",
       "4                46.439999               1.0               2.0    -59.0  \n",
       "...                    ...               ...               ...      ...  \n",
       "370191           38.160000               1.0               0.0    -25.0  \n",
       "370192           31.680000               1.0               1.0     15.0  \n",
       "370193           25.559999              63.0               2.0    -14.0  \n",
       "370194           16.919998              51.0               1.0    -10.0  \n",
       "370195           30.960001              63.0               3.0      2.0  \n",
       "\n",
       "[370196 rows x 31 columns]"
      ]
     },
     "execution_count": 3,
     "metadata": {},
     "output_type": "execute_result"
    }
   ],
   "source": [
    "# Select just columns related to weather and delay time\n",
    "weather_num_cols = [\n",
    "    'arr_latitude', 'arr_longitude',\n",
    "    'arr_temperature_2m', 'arr_relative_humidity_2m', 'arr_precipitation', 'arr_rain', 'arr_snowfall',\n",
    "    'arr_cloud_cover', 'arr_cloud_cover_low', 'arr_cloud_cover_mid', 'arr_cloud_cover_high',\n",
    "    'arr_wind_speed_10m', 'arr_wind_speed_100m', 'arr_wind_gusts_10m', 'dep_latitude',\n",
    "    'dep_longitude', 'dep_temperature_2m', 'dep_relative_humidity_2m', 'dep_precipitation', 'dep_rain',\n",
    "    'dep_snowfall', 'dep_cloud_cover', 'dep_cloud_cover_low', 'dep_cloud_cover_mid',\n",
    "    'dep_cloud_cover_high', 'dep_wind_speed_10m', 'dep_wind_speed_100m', 'dep_wind_gusts_10m'\n",
    "]\n",
    "weather_cat_cols = ['arr_weather_code', 'dep_weather_code']\n",
    "data = data_og[weather_num_cols + weather_cat_cols + ['delayed']].copy()\n",
    "data"
   ]
  },
  {
   "cell_type": "code",
   "execution_count": 4,
   "metadata": {},
   "outputs": [
    {
     "data": {
      "image/png": "[encoded data removed]",
      "text/plain": [
       "<Figure size 640x480 with 2 Axes>"
      ]
     },
     "metadata": {},
     "output_type": "display_data"
    },
    {
     "name": "stdout",
     "output_type": "stream",
     "text": [
      "count    370196.000000\n",
      "mean          1.006302\n",
      "std          29.693936\n",
      "min        -703.000000\n",
      "25%         -16.000000\n",
      "50%          -4.000000\n",
      "75%          11.000000\n",
      "max        1479.000000\n",
      "Name: delayed, dtype: float64\n"
     ]
    }
   ],
   "source": [
    "# Assuming 'delayed' is a column in your DataFrame\n",
    "# Replace this with the actual column name from your DataFrame\n",
    "y = data['delayed'].copy()\n",
    "\n",
    "# Create a figure with two subplots (histogram and box plot)\n",
    "fig, (ax1, ax2) = plt.subplots(2, 1, sharex=True, gridspec_kw={'height_ratios': [3, 1]})\n",
    "\n",
    "# Histogram\n",
    "ax1.hist(y.dropna(), bins=100, color='skyblue', edgecolor='black')\n",
    "ax1.set_title('Histogram of Delaye time (in minutes)')\n",
    "ax1.set_ylabel('Frequency')\n",
    "\n",
    "# Box plot\n",
    "ax2.boxplot(y.dropna(), vert=False)\n",
    "ax2.set_xlabel('Values')\n",
    "ax2.set_ylabel('Box Plot')\n",
    "\n",
    "plt.show()\n",
    "\n",
    "# Display descriptive statistics\n",
    "print(y.describe())\n"
   ]
  },
  {
   "cell_type": "code",
   "execution_count": 5,
   "metadata": {},
   "outputs": [
    {
     "data": {
      "text/plain": [
       "<AxesSubplot:>"
      ]
     },
     "execution_count": 5,
     "metadata": {},
     "output_type": "execute_result"
    },
    {
     "data": {
      "image/png": "[encoded data removed]",
      "text/plain": [
       "<Figure size 640x480 with 1 Axes>"
      ]
     },
     "metadata": {},
     "output_type": "display_data"
    }
   ],
   "source": [
    "data['delay_bin'] = pd.cut(y, [-np.inf, -16, -4, 11, np.inf], labels=[1,2,3,4])\n",
    "data.delay_bin.hist()"
   ]
  },
  {
   "cell_type": "code",
   "execution_count": 6,
   "metadata": {},
   "outputs": [],
   "source": [
    "from sklearn.model_selection import StratifiedShuffleSplit\n",
    "\n",
    "ss = StratifiedShuffleSplit(n_splits=1, test_size=0.1, random_state=42)\n",
    "\n",
    "for train_ix, test_ix in ss.split(data, data.delay_bin):\n",
    "    train_val_set = data.iloc[train_ix]\n",
    "    test_set = data.iloc[test_ix]\n",
    "\n",
    "for train_ix, val_ix in ss.split(train_val_set, train_val_set.delay_bin):\n",
    "    train_set = data.iloc[train_ix]  # Use train_val_set instead of data\n",
    "    val_set = data.iloc[val_ix]      # Use train_val_set instead of data"
   ]
  },
  {
   "cell_type": "code",
   "execution_count": 7,
   "metadata": {},
   "outputs": [
    {
     "name": "stdout",
     "output_type": "stream",
     "text": [
      "\n",
      "Orig: 370196 samples\n",
      "1    0.263785\n",
      "2    0.253571\n",
      "4    0.242542\n",
      "3    0.240103\n",
      "Name: delay_bin, dtype: float64\n",
      "\n",
      "Train: 299858 samples\n",
      "1    0.257875\n",
      "2    0.252376\n",
      "4    0.247717\n",
      "3    0.242031\n",
      "Name: delay_bin, dtype: float64\n",
      "\n",
      "Validation: 33318 samples\n",
      "1    0.254787\n",
      "2    0.254247\n",
      "4    0.248394\n",
      "3    0.242572\n",
      "Name: delay_bin, dtype: float64\n",
      "\n",
      "Test: 37020 samples\n",
      "1    0.263776\n",
      "2    0.253566\n",
      "4    0.242545\n",
      "3    0.240113\n",
      "Name: delay_bin, dtype: float64\n"
     ]
    }
   ],
   "source": [
    "# Check correctness\n",
    "print(f'\\nOrig: {len(data)} samples\\n{data.delay_bin.value_counts() / len(data)}')\n",
    "print(f'\\nTrain: {len(train_set)} samples\\n{train_set.delay_bin.value_counts() / len(train_set)}')\n",
    "print(f'\\nValidation: {len(val_set)} samples\\n{val_set.delay_bin.value_counts() / len(val_set)}')\n",
    "print(f'\\nTest: {len(test_set)} samples\\n{test_set.delay_bin.value_counts() / len(test_set)}')"
   ]
  },
  {
   "cell_type": "code",
   "execution_count": 8,
   "metadata": {},
   "outputs": [
    {
     "name": "stderr",
     "output_type": "stream",
     "text": [
      "/Users/longhoang/opt/anaconda3/envs/cs224n/lib/python3.7/site-packages/pandas/core/frame.py:4913: SettingWithCopyWarning: \n",
      "A value is trying to be set on a copy of a slice from a DataFrame\n",
      "\n",
      "See the caveats in the documentation: https://pandas.pydata.org/pandas-docs/stable/user_guide/indexing.html#returning-a-view-versus-a-copy\n",
      "  errors=errors,\n"
     ]
    }
   ],
   "source": [
    "# drop 'delay_bin' column\n",
    "for set_ in (train_set, val_set, test_set):\n",
    "    set_.drop('delay_bin', axis=1, inplace=True)"
   ]
  },
  {
   "cell_type": "code",
   "execution_count": 9,
   "metadata": {},
   "outputs": [
    {
     "data": {
      "text/plain": [
       "delayed                     1.000000\n",
       "arr_relative_humidity_2m    0.093573\n",
       "dep_relative_humidity_2m    0.086411\n",
       "dep_cloud_cover_high        0.062172\n",
       "arr_cloud_cover_high        0.045390\n",
       "arr_cloud_cover_mid         0.031073\n",
       "arr_latitude                0.028273\n",
       "arr_cloud_cover             0.027929\n",
       "dep_cloud_cover_mid         0.022694\n",
       "dep_snowfall                0.013466\n",
       "dep_cloud_cover             0.010782\n",
       "dep_precipitation           0.002899\n",
       "dep_rain                    0.002754\n",
       "arr_snowfall                0.002620\n",
       "dep_weather_code           -0.000158\n",
       "arr_precipitation          -0.002543\n",
       "arr_rain                   -0.002553\n",
       "arr_cloud_cover_low        -0.002693\n",
       "arr_weather_code           -0.005138\n",
       "arr_longitude              -0.005432\n",
       "dep_temperature_2m         -0.008011\n",
       "arr_wind_speed_100m        -0.017108\n",
       "dep_wind_speed_100m        -0.020711\n",
       "dep_cloud_cover_low        -0.032744\n",
       "dep_longitude              -0.036739\n",
       "dep_latitude               -0.037315\n",
       "arr_wind_speed_10m         -0.046949\n",
       "arr_temperature_2m         -0.054877\n",
       "dep_wind_speed_10m         -0.055449\n",
       "arr_wind_gusts_10m         -0.068028\n",
       "dep_wind_gusts_10m         -0.084518\n",
       "Name: delayed, dtype: float64"
      ]
     },
     "execution_count": 9,
     "metadata": {},
     "output_type": "execute_result"
    }
   ],
   "source": [
    "cm = train_set.corr()\n",
    "cm['delayed'].sort_values(ascending=False)"
   ]
  },
  {
   "cell_type": "code",
   "execution_count": 10,
   "metadata": {},
   "outputs": [
    {
     "data": {
      "text/plain": [
       "Text(0, 0.5, 'Delay time')"
      ]
     },
     "execution_count": 10,
     "metadata": {},
     "output_type": "execute_result"
    },
    {
     "data": {
      "image/png": "[encoded data removed]",
      "text/plain": [
       "<Figure size 640x480 with 1 Axes>"
      ]
     },
     "metadata": {},
     "output_type": "display_data"
    }
   ],
   "source": [
    "plt.scatter(train_set.arr_relative_humidity_2m, train_set.delayed, marker='o', alpha=0.2)\n",
    "plt.xlabel('Estimated depature hour')\n",
    "plt.ylabel('Delay time')"
   ]
  },
  {
   "cell_type": "markdown",
   "metadata": {},
   "source": [
    "# Preprocess data for training"
   ]
  },
  {
   "cell_type": "code",
   "execution_count": 11,
   "metadata": {},
   "outputs": [],
   "source": [
    "train_data = train_set.drop('delayed', axis=1)\n",
    "train_labels = train_set['delayed'].copy()"
   ]
  },
  {
   "cell_type": "code",
   "execution_count": 12,
   "metadata": {},
   "outputs": [
    {
     "name": "stdout",
     "output_type": "stream",
     "text": [
      "<class 'pandas.core.frame.DataFrame'>\n",
      "Int64Index: 299858 entries, 39077 to 33102\n",
      "Data columns (total 30 columns):\n",
      " #   Column                    Non-Null Count   Dtype  \n",
      "---  ------                    --------------   -----  \n",
      " 0   arr_latitude              299855 non-null  float64\n",
      " 1   arr_longitude             299855 non-null  float64\n",
      " 2   arr_temperature_2m        299855 non-null  float64\n",
      " 3   arr_relative_humidity_2m  299855 non-null  float64\n",
      " 4   arr_precipitation         299855 non-null  float64\n",
      " 5   arr_rain                  299855 non-null  float64\n",
      " 6   arr_snowfall              299855 non-null  float64\n",
      " 7   arr_cloud_cover           299855 non-null  float64\n",
      " 8   arr_cloud_cover_low       299855 non-null  float64\n",
      " 9   arr_cloud_cover_mid       299855 non-null  float64\n",
      " 10  arr_cloud_cover_high      299855 non-null  float64\n",
      " 11  arr_wind_speed_10m        299855 non-null  float64\n",
      " 12  arr_wind_speed_100m       299855 non-null  float64\n",
      " 13  arr_wind_gusts_10m        299855 non-null  float64\n",
      " 14  dep_latitude              299856 non-null  float64\n",
      " 15  dep_longitude             299856 non-null  float64\n",
      " 16  dep_temperature_2m        299856 non-null  float64\n",
      " 17  dep_relative_humidity_2m  299856 non-null  float64\n",
      " 18  dep_precipitation         299856 non-null  float64\n",
      " 19  dep_rain                  299856 non-null  float64\n",
      " 20  dep_snowfall              299856 non-null  float64\n",
      " 21  dep_cloud_cover           299856 non-null  float64\n",
      " 22  dep_cloud_cover_low       299856 non-null  float64\n",
      " 23  dep_cloud_cover_mid       299856 non-null  float64\n",
      " 24  dep_cloud_cover_high      299856 non-null  float64\n",
      " 25  dep_wind_speed_10m        299856 non-null  float64\n",
      " 26  dep_wind_speed_100m       299856 non-null  float64\n",
      " 27  dep_wind_gusts_10m        299856 non-null  float64\n",
      " 28  arr_weather_code          299855 non-null  float64\n",
      " 29  dep_weather_code          299856 non-null  float64\n",
      "dtypes: float64(30)\n",
      "memory usage: 70.9 MB\n"
     ]
    }
   ],
   "source": [
    "train_data.info()"
   ]
  },
  {
   "cell_type": "code",
   "execution_count": 13,
   "metadata": {},
   "outputs": [],
   "source": [
    "from sklearn.pipeline import Pipeline\n",
    "from sklearn.preprocessing import StandardScaler, OneHotEncoder\n",
    "from sklearn.impute import SimpleImputer\n",
    "from sklearn.compose import ColumnTransformer\n",
    "\n",
    "num_pipeline = Pipeline([\n",
    "    ('medi_imputer', SimpleImputer(strategy='median')),\n",
    "    ('std_scaler', StandardScaler())\n",
    "])\n",
    "\n",
    "cat_pipeline = Pipeline([\n",
    "    ('freq_imputer', SimpleImputer(strategy='most_frequent')),\n",
    "    ('one_hot_encoder', OneHotEncoder(handle_unknown='ignore'))\n",
    "])\n",
    "\n",
    "full_pipline = ColumnTransformer([\n",
    "    ('num', num_pipeline, weather_num_cols),\n",
    "    ('cat', cat_pipeline, weather_cat_cols),\n",
    "])"
   ]
  },
  {
   "cell_type": "code",
   "execution_count": 14,
   "metadata": {},
   "outputs": [],
   "source": [
    "# Preprocess training set\n",
    "train_data_ready = full_pipline.fit_transform(train_data)\n",
    "\n",
    "# Validation set\n",
    "val_data = val_set.drop('delayed', axis=1)\n",
    "val_labels = val_set['delayed'].copy()\n",
    "val_data_ready = full_pipline.transform(val_data)\n",
    "\n",
    "# # Test set\n",
    "# test_data = test_set.drop('delayed', axis=1)\n",
    "# test_labels = test_set['delayed'].copy()\n",
    "# test_data_ready = full_pipline.transform(test_data)"
   ]
  },
  {
   "cell_type": "code",
   "execution_count": 15,
   "metadata": {},
   "outputs": [
    {
     "data": {
      "text/plain": [
       "10.700176466672303"
      ]
     },
     "execution_count": 15,
     "metadata": {},
     "output_type": "execute_result"
    }
   ],
   "source": [
    "from sklearn.metrics import mean_squared_error\n",
    "\n",
    "tree_reg = DecisionTreeRegressor()\n",
    "tree_reg.fit(train_data_ready, train_labels)\n",
    "\n",
    "# see if it fits the traind data well\n",
    "train_preds = tree_reg.predict(train_data_ready)\n",
    "tree_mse = mean_squared_error(train_labels, train_preds)\n",
    "np.sqrt(tree_mse)"
   ]
  },
  {
   "cell_type": "code",
   "execution_count": 16,
   "metadata": {},
   "outputs": [],
   "source": [
    "from sklearn.model_selection import cross_val_score\n",
    "\n",
    "scores = cross_val_score(tree_reg, train_data_ready, train_labels, \n",
    "                         scoring='neg_mean_squared_error', cv=10)\n",
    "\n",
    "tree_rmse_scores = np.sqrt(-scores)"
   ]
  },
  {
   "cell_type": "code",
   "execution_count": 17,
   "metadata": {},
   "outputs": [
    {
     "name": "stdout",
     "output_type": "stream",
     "text": [
      "Scores: [38.94469318 38.37489323 38.73790808 39.20382331 39.65363381 38.55867564\n",
      " 38.60796402 38.79889302 39.97987508 38.14761444]\n",
      "Mean: 38.9007973826023\n",
      "Std: 0.5393049904583023\n"
     ]
    }
   ],
   "source": [
    "def display_scores(scores):\n",
    "    print('Scores:', scores)\n",
    "    print('Mean:', scores.mean())\n",
    "    print('Std:', scores.std())\n",
    "\n",
    "display_scores(tree_rmse_scores)"
   ]
  },
  {
   "cell_type": "markdown",
   "metadata": {},
   "source": [
    "## Evaluate on validation set"
   ]
  },
  {
   "cell_type": "code",
   "execution_count": 18,
   "metadata": {},
   "outputs": [
    {
     "data": {
      "text/plain": [
       "38.07384176092634"
      ]
     },
     "execution_count": 18,
     "metadata": {},
     "output_type": "execute_result"
    }
   ],
   "source": [
    "val_preds = tree_reg.predict(val_data_ready)\n",
    "val_rmse = np.sqrt(mean_squared_error(val_labels, val_preds))\n",
    "val_rmse"
   ]
  },
  {
   "cell_type": "markdown",
   "metadata": {},
   "source": [
    "## Random Forest"
   ]
  },
  {
   "cell_type": "code",
   "execution_count": null,
   "metadata": {},
   "outputs": [
    {
     "name": "stdout",
     "output_type": "stream",
     "text": [
      "Train loss: 14.611136178137484\n"
     ]
    }
   ],
   "source": [
    "# Fitting the training data\n",
    "from sklearn.ensemble import RandomForestRegressor\n",
    "\n",
    "forest_reg = RandomForestRegressor(n_estimators=20)\n",
    "forest_reg.fit(train_data_ready, train_labels)\n",
    "\n",
    "train_preds = forest_reg.predict(train_data_ready)\n",
    "train_forest_mse = mean_squared_error(train_labels, train_preds)\n",
    "train_forest_rmse = np.sqrt(train_forest_mse)\n",
    "print('Train loss:', train_forest_rmse)"
   ]
  },
  {
   "cell_type": "code",
   "execution_count": null,
   "metadata": {},
   "outputs": [
    {
     "name": "stdout",
     "output_type": "stream",
     "text": [
      "Val loss: 28.97342867314461\n"
     ]
    }
   ],
   "source": [
    "# Testing on validation data\n",
    "val_preds = forest_reg.predict(val_data_ready)\n",
    "val_rmse = np.sqrt(mean_squared_error(val_labels, val_preds))\n",
    "print('Val loss:', val_rmse)"
   ]
  },
  {
   "cell_type": "markdown",
   "metadata": {},
   "source": [
    "# Analyzing results"
   ]
  },
  {
   "cell_type": "markdown",
   "metadata": {},
   "source": [
    "## Decision tree structure"
   ]
  },
  {
   "cell_type": "markdown",
   "metadata": {},
   "source": [
    "Since the decision tree is overfitting right now, we will try to test different values of maximum depth and analyze training and validation RMSE loss"
   ]
  },
  {
   "cell_type": "code",
   "execution_count": 20,
   "metadata": {},
   "outputs": [
    {
     "data": {
      "text/plain": [
       "59"
      ]
     },
     "execution_count": 20,
     "metadata": {},
     "output_type": "execute_result"
    }
   ],
   "source": [
    "# If we don't set maximum depth, the tree will grow to have a depth below\n",
    "def get_rmse(model, data, labels):\n",
    "    preds = model.predict(data)\n",
    "    return np.sqrt(mean_squared_error(labels, preds))\n",
    "\n",
    "tree_reg.tree_.max_depth"
   ]
  },
  {
   "cell_type": "code",
   "execution_count": null,
   "metadata": {},
   "outputs": [
    {
     "name": "stdout",
     "output_type": "stream",
     "text": [
      "Got result for tree w. max depth = 1\n",
      "Got result for tree w. max depth = 2\n",
      "Got result for tree w. max depth = 3\n",
      "Got result for tree w. max depth = 4\n",
      "Got result for tree w. max depth = 5\n",
      "Got result for tree w. max depth = 6\n",
      "Got result for tree w. max depth = 7\n",
      "Got result for tree w. max depth = 8\n",
      "Got result for tree w. max depth = 9\n",
      "Got result for tree w. max depth = 10\n",
      "Got result for tree w. max depth = 11\n",
      "Got result for tree w. max depth = 12\n",
      "Got result for tree w. max depth = 13\n",
      "Got result for tree w. max depth = 14\n",
      "Got result for tree w. max depth = 15\n",
      "Got result for tree w. max depth = 16\n",
      "Got result for tree w. max depth = 17\n",
      "Got result for tree w. max depth = 18\n",
      "Got result for tree w. max depth = 19\n",
      "Got result for tree w. max depth = 20\n",
      "Got result for tree w. max depth = 21\n",
      "Got result for tree w. max depth = 22\n",
      "Got result for tree w. max depth = 23\n",
      "Got result for tree w. max depth = 24\n",
      "Got result for tree w. max depth = 25\n",
      "Got result for tree w. max depth = 26\n",
      "Got result for tree w. max depth = 27\n",
      "Got result for tree w. max depth = 28\n",
      "Got result for tree w. max depth = 29\n",
      "Got result for tree w. max depth = 30\n",
      "Got result for tree w. max depth = 31\n",
      "Got result for tree w. max depth = 32\n",
      "Got result for tree w. max depth = 33\n",
      "Got result for tree w. max depth = 34\n",
      "Got result for tree w. max depth = 35\n",
      "Got result for tree w. max depth = 36\n",
      "Got result for tree w. max depth = 37\n",
      "Got result for tree w. max depth = 38\n",
      "Got result for tree w. max depth = 39\n",
      "Got result for tree w. max depth = 40\n",
      "Got result for tree w. max depth = 41\n",
      "Got result for tree w. max depth = 42\n",
      "Got result for tree w. max depth = 43\n",
      "Got result for tree w. max depth = 44\n",
      "Got result for tree w. max depth = 45\n",
      "Got result for tree w. max depth = 46\n",
      "Got result for tree w. max depth = 47\n",
      "Got result for tree w. max depth = 48\n",
      "Got result for tree w. max depth = 49\n",
      "Got result for tree w. max depth = 50\n",
      "Got result for tree w. max depth = 51\n",
      "Got result for tree w. max depth = 52\n",
      "Got result for tree w. max depth = 53\n",
      "Got result for tree w. max depth = 54\n",
      "Got result for tree w. max depth = 55\n",
      "Got result for tree w. max depth = 56\n",
      "Got result for tree w. max depth = 57\n",
      "Got result for tree w. max depth = 58\n",
      "Got result for tree w. max depth = 59\n"
     ]
    }
   ],
   "source": [
    "train_lossi = []\n",
    "val_lossi = []\n",
    "for i in range(tree_reg.tree_.max_depth):\n",
    "    model = DecisionTreeRegressor(max_depth=i+1, random_state=42)\n",
    "    model.fit(train_data_ready, train_labels)\n",
    "    train_loss = get_rmse(model, train_data_ready, train_labels)\n",
    "    val_loss = get_rmse(model, val_data_ready, val_labels)\n",
    "    train_lossi.append(train_loss)\n",
    "    val_lossi.append(val_loss)\n",
    "    print(f'Got result for tree w. max depth = {i+1}')"
   ]
  },
  {
   "cell_type": "code",
   "execution_count": null,
   "metadata": {},
   "outputs": [
    {
     "data": {
      "image/png": "[encoded data removed]",
      "text/plain": [
       "<Figure size 1000x500 with 1 Axes>"
      ]
     },
     "metadata": {},
     "output_type": "display_data"
    }
   ],
   "source": [
    "nums = range(1, tree_reg.tree_.max_depth + 1)\n",
    "plt.figure(figsize=(10, 5))\n",
    "plt.plot(nums, train_lossi, label='Training Loss')\n",
    "plt.plot(nums, val_lossi, label='Validation Loss')\n",
    "plt.legend()\n",
    "plt.xlabel('Tree Depth')\n",
    "plt.ylabel('Loss')\n",
    "plt.title('Training and Validation Loss vs Tree Depth')\n",
    "plt.show()"
   ]
  },
  {
   "cell_type": "markdown",
   "metadata": {},
   "source": [
    "As we see above, a depth of around 9 or 10 is a good value to balance out overfitting and underfitting"
   ]
  },
  {
   "cell_type": "code",
   "execution_count": 21,
   "metadata": {},
   "outputs": [
    {
     "data": {
      "text/plain": [
       "(28.10082630919434, 28.38744316160164)"
      ]
     },
     "execution_count": 21,
     "metadata": {},
     "output_type": "execute_result"
    }
   ],
   "source": [
    "tree_final = DecisionTreeRegressor(max_depth=9)\n",
    "tree_final.fit(train_data_ready, train_labels)\n",
    "train_loss = get_rmse(tree_final, train_data_ready, train_labels)\n",
    "val_loss = get_rmse(tree_final, val_data_ready, val_labels)\n",
    "train_loss, val_loss"
   ]
  },
  {
   "cell_type": "code",
   "execution_count": null,
   "metadata": {},
   "outputs": [],
   "source": []
  }
 ],
 "metadata": {
  "kernelspec": {
   "display_name": "cs224n",
   "language": "python",
   "name": "cs224n"
  },
  "language_info": {
   "codemirror_mode": {
    "name": "ipython",
    "version": 3
   },
   "file_extension": ".py",
   "mimetype": "text/x-python",
   "name": "python",
   "nbconvert_exporter": "python",
   "pygments_lexer": "ipython3",
   "version": "3.7.16"
  }
 },
 "nbformat": 4,
 "nbformat_minor": 2
}
